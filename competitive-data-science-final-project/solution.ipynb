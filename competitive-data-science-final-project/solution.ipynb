{
 "cells": [
  {
   "cell_type": "markdown",
   "metadata": {},
   "source": [
    "# Import libraries"
   ]
  },
  {
   "cell_type": "code",
   "execution_count": 1,
   "metadata": {},
   "outputs": [],
   "source": [
    "# you have to install ipython-autotime using 'pip install ipython-autotime'\n",
    "%load_ext autotime\n",
    "\n",
    "import gc\n",
    "import IPython.display\n",
    "import os\n",
    "import datetime\n",
    "from tqdm import tqdm_notebook\n",
    "\n",
    "import pandas as pd\n",
    "import numpy as np\n",
    "import matplotlib.pyplot as plt\n",
    "%matplotlib inline\n",
    "\n",
    "# in this project, the metric is rmse, not mse\n",
    "from sklearn.metrics import mean_squared_error\n",
    "\n",
    "# models\n",
    "from sklearn.linear_model import LinearRegression\n",
    "from sklearn.linear_model import ElasticNet\n",
    "\n",
    "#SVR and KNeighborsRegressor is too slow\n",
    "#from sklearn.svm import SVR\n",
    "#from sklearn.neighbors import KNeighborsRegressor\n",
    "from sklearn.ensemble import RandomForestRegressor\n",
    "from sklearn.ensemble import ExtraTreesRegressor\n",
    "\n",
    "import lightgbm\n",
    "\n",
    "seed = 180718"
   ]
  },
  {
   "cell_type": "markdown",
   "metadata": {},
   "source": [
    "# Load datasets"
   ]
  },
  {
   "cell_type": "code",
   "execution_count": 2,
   "metadata": {},
   "outputs": [
    {
     "name": "stdout",
     "output_type": "stream",
     "text": [
      "time: 2.69 s\n"
     ]
    }
   ],
   "source": [
    "sales = pd.read_csv('./dataset/sales_train.csv.gz')\n",
    "shops = pd.read_csv('./dataset/shops.csv')\n",
    "items = pd.read_csv('./dataset/items.csv')\n",
    "item_cats = pd.read_csv('./dataset/item_categories.csv')\n",
    "test = pd.read_csv(\"./dataset/test.csv.gz\")"
   ]
  },
  {
   "cell_type": "markdown",
   "metadata": {},
   "source": [
    "# Analyze raw datasets"
   ]
  },
  {
   "cell_type": "markdown",
   "metadata": {},
   "source": [
    "Let's start to anylyze basic information about give datasets."
   ]
  },
  {
   "cell_type": "code",
   "execution_count": 3,
   "metadata": {
    "scrolled": true
   },
   "outputs": [
    {
     "data": {
      "text/html": [
       "<div>\n",
       "<style scoped>\n",
       "    .dataframe tbody tr th:only-of-type {\n",
       "        vertical-align: middle;\n",
       "    }\n",
       "\n",
       "    .dataframe tbody tr th {\n",
       "        vertical-align: top;\n",
       "    }\n",
       "\n",
       "    .dataframe thead th {\n",
       "        text-align: right;\n",
       "    }\n",
       "</style>\n",
       "<table border=\"1\" class=\"dataframe\">\n",
       "  <thead>\n",
       "    <tr style=\"text-align: right;\">\n",
       "      <th></th>\n",
       "      <th>date_block_num</th>\n",
       "      <th>shop_id</th>\n",
       "      <th>item_id</th>\n",
       "      <th>item_price</th>\n",
       "      <th>item_cnt_day</th>\n",
       "    </tr>\n",
       "  </thead>\n",
       "  <tbody>\n",
       "    <tr>\n",
       "      <th>count</th>\n",
       "      <td>2,935,849</td>\n",
       "      <td>2,935,849</td>\n",
       "      <td>2,935,849</td>\n",
       "      <td>2,935,849</td>\n",
       "      <td>2,935,849</td>\n",
       "    </tr>\n",
       "    <tr>\n",
       "      <th>mean</th>\n",
       "      <td>15</td>\n",
       "      <td>33</td>\n",
       "      <td>10,197</td>\n",
       "      <td>891</td>\n",
       "      <td>1</td>\n",
       "    </tr>\n",
       "    <tr>\n",
       "      <th>std</th>\n",
       "      <td>9</td>\n",
       "      <td>16</td>\n",
       "      <td>6,324</td>\n",
       "      <td>1,730</td>\n",
       "      <td>3</td>\n",
       "    </tr>\n",
       "    <tr>\n",
       "      <th>min</th>\n",
       "      <td>0</td>\n",
       "      <td>0</td>\n",
       "      <td>0</td>\n",
       "      <td>-1</td>\n",
       "      <td>-22</td>\n",
       "    </tr>\n",
       "    <tr>\n",
       "      <th>25%</th>\n",
       "      <td>7</td>\n",
       "      <td>22</td>\n",
       "      <td>4,476</td>\n",
       "      <td>249</td>\n",
       "      <td>1</td>\n",
       "    </tr>\n",
       "    <tr>\n",
       "      <th>50%</th>\n",
       "      <td>14</td>\n",
       "      <td>31</td>\n",
       "      <td>9,343</td>\n",
       "      <td>399</td>\n",
       "      <td>1</td>\n",
       "    </tr>\n",
       "    <tr>\n",
       "      <th>75%</th>\n",
       "      <td>23</td>\n",
       "      <td>47</td>\n",
       "      <td>15,684</td>\n",
       "      <td>999</td>\n",
       "      <td>1</td>\n",
       "    </tr>\n",
       "    <tr>\n",
       "      <th>max</th>\n",
       "      <td>33</td>\n",
       "      <td>59</td>\n",
       "      <td>22,169</td>\n",
       "      <td>307,980</td>\n",
       "      <td>2,169</td>\n",
       "    </tr>\n",
       "  </tbody>\n",
       "</table>\n",
       "</div>"
      ],
      "text/plain": [
       "       date_block_num   shop_id   item_id  item_price  item_cnt_day\n",
       "count       2,935,849 2,935,849 2,935,849   2,935,849     2,935,849\n",
       "mean               15        33    10,197         891             1\n",
       "std                 9        16     6,324       1,730             3\n",
       "min                 0         0         0          -1           -22\n",
       "25%                 7        22     4,476         249             1\n",
       "50%                14        31     9,343         399             1\n",
       "75%                23        47    15,684         999             1\n",
       "max                33        59    22,169     307,980         2,169"
      ]
     },
     "execution_count": 3,
     "metadata": {},
     "output_type": "execute_result"
    },
    {
     "name": "stdout",
     "output_type": "stream",
     "text": [
      "time: 790 ms\n"
     ]
    }
   ],
   "source": [
    "# make float data looks integer data\n",
    "pd.options.display.float_format = '{:,.0f}'.format\n",
    "\n",
    "sales.describe()"
   ]
  },
  {
   "cell_type": "code",
   "execution_count": 4,
   "metadata": {},
   "outputs": [
    {
     "data": {
      "text/html": [
       "<div>\n",
       "<style scoped>\n",
       "    .dataframe tbody tr th:only-of-type {\n",
       "        vertical-align: middle;\n",
       "    }\n",
       "\n",
       "    .dataframe tbody tr th {\n",
       "        vertical-align: top;\n",
       "    }\n",
       "\n",
       "    .dataframe thead th {\n",
       "        text-align: right;\n",
       "    }\n",
       "</style>\n",
       "<table border=\"1\" class=\"dataframe\">\n",
       "  <thead>\n",
       "    <tr style=\"text-align: right;\">\n",
       "      <th></th>\n",
       "      <th>ID</th>\n",
       "      <th>shop_id</th>\n",
       "      <th>item_id</th>\n",
       "    </tr>\n",
       "  </thead>\n",
       "  <tbody>\n",
       "    <tr>\n",
       "      <th>count</th>\n",
       "      <td>214,200</td>\n",
       "      <td>214,200</td>\n",
       "      <td>214,200</td>\n",
       "    </tr>\n",
       "    <tr>\n",
       "      <th>mean</th>\n",
       "      <td>107,100</td>\n",
       "      <td>32</td>\n",
       "      <td>11,019</td>\n",
       "    </tr>\n",
       "    <tr>\n",
       "      <th>std</th>\n",
       "      <td>61,834</td>\n",
       "      <td>18</td>\n",
       "      <td>6,253</td>\n",
       "    </tr>\n",
       "    <tr>\n",
       "      <th>min</th>\n",
       "      <td>0</td>\n",
       "      <td>2</td>\n",
       "      <td>30</td>\n",
       "    </tr>\n",
       "    <tr>\n",
       "      <th>25%</th>\n",
       "      <td>53,550</td>\n",
       "      <td>16</td>\n",
       "      <td>5,382</td>\n",
       "    </tr>\n",
       "    <tr>\n",
       "      <th>50%</th>\n",
       "      <td>107,100</td>\n",
       "      <td>34</td>\n",
       "      <td>11,203</td>\n",
       "    </tr>\n",
       "    <tr>\n",
       "      <th>75%</th>\n",
       "      <td>160,649</td>\n",
       "      <td>47</td>\n",
       "      <td>16,072</td>\n",
       "    </tr>\n",
       "    <tr>\n",
       "      <th>max</th>\n",
       "      <td>214,199</td>\n",
       "      <td>59</td>\n",
       "      <td>22,167</td>\n",
       "    </tr>\n",
       "  </tbody>\n",
       "</table>\n",
       "</div>"
      ],
      "text/plain": [
       "           ID  shop_id  item_id\n",
       "count 214,200  214,200  214,200\n",
       "mean  107,100       32   11,019\n",
       "std    61,834       18    6,253\n",
       "min         0        2       30\n",
       "25%    53,550       16    5,382\n",
       "50%   107,100       34   11,203\n",
       "75%   160,649       47   16,072\n",
       "max   214,199       59   22,167"
      ]
     },
     "execution_count": 4,
     "metadata": {},
     "output_type": "execute_result"
    },
    {
     "name": "stdout",
     "output_type": "stream",
     "text": [
      "time: 47.2 ms\n"
     ]
    }
   ],
   "source": [
    "test.describe()"
   ]
  },
  {
   "cell_type": "markdown",
   "metadata": {},
   "source": [
    "We need to do simple calculations here. The number of shop_id is 60, and the number of item_id is 22,170. Therefore, the total number of combinations of them is 1,330,200. However, there are only 214,200 IDs in the test. It means that this competition only requires 16.1% of the all shop_id and item_id combinations.\n",
    "\n",
    "We can use this fact in 3 ways.\n",
    "1. get a prediction of the test IDs in the submission using full data in the training and the validation.\n",
    "2. get a prediction of the test IDs in the validation and the submission using full data in the training.\n",
    "3. Reduce data before training to make training short.\n",
    "\n",
    "I think we should take 2 or 3. In the first way, the validation score can not be fitting to the test score. My strategy is using 3 till the validation and using 2 in the submission only. I think full data has other shops or other items, but it can give some information about how the price is going especially if I use RNN algorithms."
   ]
  },
  {
   "cell_type": "markdown",
   "metadata": {},
   "source": [
    "# Plan EDA(Exploratory data analysis)"
   ]
  },
  {
   "cell_type": "markdown",
   "metadata": {},
   "source": [
    "I think item_price and item_cnt_day have interesting qualtiles and min-max values. First of all, item_cnt_day must not be zero value because sales data is record of something that occured in sales. However, the target is item_cnt_month, so it would be better to analyze monthly data of item_cnt. In the item, the max price is so much higher than others. I'm not sure but, it's possible to use the extream price for prediction.\n",
    "\n",
    "My plans is as below.\n",
    "\n",
    "1. reduce data using test id combinations\n",
    "2. aggregate the total item_cnt_month of shops month by month\n",
    "3. aggregate the total item_cnt month of items month by month\n",
    "4. aggregate the total item_cnt_month month by month\n",
    "\n",
    "The purpose of them is to know if there are correlations between them and if there are patterns in time flow."
   ]
  },
  {
   "cell_type": "markdown",
   "metadata": {},
   "source": [
    "# Make utilities to submit"
   ]
  },
  {
   "cell_type": "markdown",
   "metadata": {},
   "source": [
    "Utility function makes codes simple, so it's good to make these functions"
   ]
  },
  {
   "cell_type": "code",
   "execution_count": 5,
   "metadata": {},
   "outputs": [
    {
     "name": "stdout",
     "output_type": "stream",
     "text": [
      "time: 13.3 ms\n"
     ]
    }
   ],
   "source": [
    "def make_submission_df(all_prediction):\n",
    "    df = test.merge(all_prediction, on=[\"shop_id\", \"item_id\"], how=\"left\")[[\"ID\", \"item_cnt_month\"]]\n",
    "    df[\"item_cnt_month\"] = df[\"item_cnt_month\"].fillna(0).clip(0, 20)\n",
    "    \n",
    "    return df\n",
    "\n",
    "def make_submission_file(df, name=\"\"):\n",
    "    df.to_csv(\"./submission/%s.csv\" % name, sep=\",\", index=False)\n",
    "    \n",
    "def make_submission(all_prediction, name=\"\"):\n",
    "    make_submission_file(make_submission_df(all_prediction), name)"
   ]
  },
  {
   "cell_type": "markdown",
   "metadata": {},
   "source": [
    "# Make benchmarks"
   ]
  },
  {
   "cell_type": "markdown",
   "metadata": {},
   "source": [
    "There should be benchmarks to measure my prediction's quality, so I made very simple ones. I think it should be done in first phase."
   ]
  },
  {
   "cell_type": "code",
   "execution_count": 6,
   "metadata": {},
   "outputs": [
    {
     "name": "stdout",
     "output_type": "stream",
     "text": [
      "time: 2.01 ms\n"
     ]
    }
   ],
   "source": [
    "# sample = pd.read_csv('./dataset/sample_submission.csv.gz')\n",
    "# make_submission_file(sample, 'sample_value')\n",
    "\n",
    "# sample['item_cnt_month'] = 0\n",
    "# make_submission_file(sample, 'zero_value')\n",
    "\n",
    "# previous_month = sales[sales[\"date_block_num\"] == 33].groupby([\"shop_id\", \"item_id\"], as_index=False).item_cnt_day.sum().rename(columns={\"item_cnt_day\": \"item_cnt_month\"})\n",
    "# make_submission(previous_month, \"previous_month_value\")\n",
    "\n",
    "# del sample, previous_month"
   ]
  },
  {
   "cell_type": "markdown",
   "metadata": {},
   "source": [
    "# Benchmark results"
   ]
  },
  {
   "cell_type": "markdown",
   "metadata": {},
   "source": [
    "* sample value(all 0.5): 1.23646\n",
    "* zero value: 1.25011\n",
    "* previous month value: 1.16777"
   ]
  },
  {
   "cell_type": "markdown",
   "metadata": {},
   "source": [
    "# Reduce data using test id combinations"
   ]
  },
  {
   "cell_type": "code",
   "execution_count": 7,
   "metadata": {},
   "outputs": [
    {
     "data": {
      "text/html": [
       "<div>\n",
       "<style scoped>\n",
       "    .dataframe tbody tr th:only-of-type {\n",
       "        vertical-align: middle;\n",
       "    }\n",
       "\n",
       "    .dataframe tbody tr th {\n",
       "        vertical-align: top;\n",
       "    }\n",
       "\n",
       "    .dataframe thead th {\n",
       "        text-align: right;\n",
       "    }\n",
       "</style>\n",
       "<table border=\"1\" class=\"dataframe\">\n",
       "  <thead>\n",
       "    <tr style=\"text-align: right;\">\n",
       "      <th></th>\n",
       "      <th>date_block_num</th>\n",
       "      <th>shop_id</th>\n",
       "      <th>item_id</th>\n",
       "      <th>item_price</th>\n",
       "      <th>item_cnt_day</th>\n",
       "    </tr>\n",
       "  </thead>\n",
       "  <tbody>\n",
       "    <tr>\n",
       "      <th>count</th>\n",
       "      <td>1,224,439</td>\n",
       "      <td>1,224,439</td>\n",
       "      <td>1,224,439</td>\n",
       "      <td>1,224,439</td>\n",
       "      <td>1,224,439</td>\n",
       "    </tr>\n",
       "    <tr>\n",
       "      <th>mean</th>\n",
       "      <td>19</td>\n",
       "      <td>32</td>\n",
       "      <td>9,615</td>\n",
       "      <td>1,031</td>\n",
       "      <td>1</td>\n",
       "    </tr>\n",
       "    <tr>\n",
       "      <th>std</th>\n",
       "      <td>9</td>\n",
       "      <td>16</td>\n",
       "      <td>6,300</td>\n",
       "      <td>1,827</td>\n",
       "      <td>3</td>\n",
       "    </tr>\n",
       "    <tr>\n",
       "      <th>min</th>\n",
       "      <td>0</td>\n",
       "      <td>2</td>\n",
       "      <td>30</td>\n",
       "      <td>0</td>\n",
       "      <td>-16</td>\n",
       "    </tr>\n",
       "    <tr>\n",
       "      <th>25%</th>\n",
       "      <td>12</td>\n",
       "      <td>19</td>\n",
       "      <td>4,181</td>\n",
       "      <td>299</td>\n",
       "      <td>1</td>\n",
       "    </tr>\n",
       "    <tr>\n",
       "      <th>50%</th>\n",
       "      <td>21</td>\n",
       "      <td>31</td>\n",
       "      <td>7,856</td>\n",
       "      <td>549</td>\n",
       "      <td>1</td>\n",
       "    </tr>\n",
       "    <tr>\n",
       "      <th>75%</th>\n",
       "      <td>27</td>\n",
       "      <td>46</td>\n",
       "      <td>15,229</td>\n",
       "      <td>1,199</td>\n",
       "      <td>1</td>\n",
       "    </tr>\n",
       "    <tr>\n",
       "      <th>max</th>\n",
       "      <td>33</td>\n",
       "      <td>59</td>\n",
       "      <td>22,167</td>\n",
       "      <td>59,200</td>\n",
       "      <td>2,169</td>\n",
       "    </tr>\n",
       "  </tbody>\n",
       "</table>\n",
       "</div>"
      ],
      "text/plain": [
       "       date_block_num   shop_id   item_id  item_price  item_cnt_day\n",
       "count       1,224,439 1,224,439 1,224,439   1,224,439     1,224,439\n",
       "mean               19        32     9,615       1,031             1\n",
       "std                 9        16     6,300       1,827             3\n",
       "min                 0         2        30           0           -16\n",
       "25%                12        19     4,181         299             1\n",
       "50%                21        31     7,856         549             1\n",
       "75%                27        46    15,229       1,199             1\n",
       "max                33        59    22,167      59,200         2,169"
      ]
     },
     "execution_count": 7,
     "metadata": {},
     "output_type": "execute_result"
    },
    {
     "name": "stdout",
     "output_type": "stream",
     "text": [
      "time: 907 ms\n"
     ]
    }
   ],
   "source": [
    "reduced_sales = sales.merge(test)\n",
    "reduced_sales = reduced_sales.drop('ID', axis=1)\n",
    "reduced_sales.describe()"
   ]
  },
  {
   "cell_type": "markdown",
   "metadata": {},
   "source": [
    "Before reducing data, the total number of rows is 2,935,849. Now, the amount of data is reduced to 41.7%.\n",
    "It means that test data is not randomly picked in all combinations of shop_id and item_id.\n",
    "One of the possible scenarios is that the host of this competition chose test targets in combinations that appeared in the sales data, not in all combinations."
   ]
  },
  {
   "cell_type": "markdown",
   "metadata": {},
   "source": [
    "# Analyze combinations of shop_id and item_id"
   ]
  },
  {
   "cell_type": "code",
   "execution_count": 8,
   "metadata": {},
   "outputs": [
    {
     "data": {
      "text/html": [
       "<div>\n",
       "<style scoped>\n",
       "    .dataframe tbody tr th:only-of-type {\n",
       "        vertical-align: middle;\n",
       "    }\n",
       "\n",
       "    .dataframe tbody tr th {\n",
       "        vertical-align: top;\n",
       "    }\n",
       "\n",
       "    .dataframe thead th {\n",
       "        text-align: right;\n",
       "    }\n",
       "</style>\n",
       "<table border=\"1\" class=\"dataframe\">\n",
       "  <thead>\n",
       "    <tr style=\"text-align: right;\">\n",
       "      <th></th>\n",
       "      <th>shop_id</th>\n",
       "      <th>item_id</th>\n",
       "    </tr>\n",
       "  </thead>\n",
       "  <tbody>\n",
       "    <tr>\n",
       "      <th>count</th>\n",
       "      <td>424,124</td>\n",
       "      <td>424,124</td>\n",
       "    </tr>\n",
       "    <tr>\n",
       "      <th>mean</th>\n",
       "      <td>31</td>\n",
       "      <td>11,458</td>\n",
       "    </tr>\n",
       "    <tr>\n",
       "      <th>std</th>\n",
       "      <td>17</td>\n",
       "      <td>6,133</td>\n",
       "    </tr>\n",
       "    <tr>\n",
       "      <th>min</th>\n",
       "      <td>0</td>\n",
       "      <td>0</td>\n",
       "    </tr>\n",
       "    <tr>\n",
       "      <th>25%</th>\n",
       "      <td>18</td>\n",
       "      <td>6,244</td>\n",
       "    </tr>\n",
       "    <tr>\n",
       "      <th>50%</th>\n",
       "      <td>30</td>\n",
       "      <td>11,614</td>\n",
       "    </tr>\n",
       "    <tr>\n",
       "      <th>75%</th>\n",
       "      <td>46</td>\n",
       "      <td>16,662</td>\n",
       "    </tr>\n",
       "    <tr>\n",
       "      <th>max</th>\n",
       "      <td>59</td>\n",
       "      <td>22,169</td>\n",
       "    </tr>\n",
       "  </tbody>\n",
       "</table>\n",
       "</div>"
      ],
      "text/plain": [
       "       shop_id  item_id\n",
       "count  424,124  424,124\n",
       "mean        31   11,458\n",
       "std         17    6,133\n",
       "min          0        0\n",
       "25%         18    6,244\n",
       "50%         30   11,614\n",
       "75%         46   16,662\n",
       "max         59   22,169"
      ]
     },
     "metadata": {},
     "output_type": "display_data"
    },
    {
     "data": {
      "text/plain": [
       "'unique value of shop_id: 60'"
      ]
     },
     "metadata": {},
     "output_type": "display_data"
    },
    {
     "data": {
      "text/plain": [
       "'unique value of item_id: 21807'"
      ]
     },
     "metadata": {},
     "output_type": "display_data"
    },
    {
     "name": "stdout",
     "output_type": "stream",
     "text": [
      "time: 280 ms\n"
     ]
    }
   ],
   "source": [
    "full_comb = sales[['shop_id', 'item_id']]\n",
    "full_comb = full_comb.drop_duplicates()\n",
    "display(full_comb.describe())\n",
    "display('unique value of shop_id: ' + str(len(full_comb.shop_id.unique())))\n",
    "display('unique value of item_id: ' + str(len(full_comb.item_id.unique())))"
   ]
  },
  {
   "cell_type": "code",
   "execution_count": 9,
   "metadata": {},
   "outputs": [
    {
     "data": {
      "text/html": [
       "<div>\n",
       "<style scoped>\n",
       "    .dataframe tbody tr th:only-of-type {\n",
       "        vertical-align: middle;\n",
       "    }\n",
       "\n",
       "    .dataframe tbody tr th {\n",
       "        vertical-align: top;\n",
       "    }\n",
       "\n",
       "    .dataframe thead th {\n",
       "        text-align: right;\n",
       "    }\n",
       "</style>\n",
       "<table border=\"1\" class=\"dataframe\">\n",
       "  <thead>\n",
       "    <tr style=\"text-align: right;\">\n",
       "      <th></th>\n",
       "      <th>shop_id</th>\n",
       "      <th>item_id</th>\n",
       "    </tr>\n",
       "  </thead>\n",
       "  <tbody>\n",
       "    <tr>\n",
       "      <th>count</th>\n",
       "      <td>111,404</td>\n",
       "      <td>111,404</td>\n",
       "    </tr>\n",
       "    <tr>\n",
       "      <th>mean</th>\n",
       "      <td>31</td>\n",
       "      <td>10,884</td>\n",
       "    </tr>\n",
       "    <tr>\n",
       "      <th>std</th>\n",
       "      <td>17</td>\n",
       "      <td>6,154</td>\n",
       "    </tr>\n",
       "    <tr>\n",
       "      <th>min</th>\n",
       "      <td>2</td>\n",
       "      <td>30</td>\n",
       "    </tr>\n",
       "    <tr>\n",
       "      <th>25%</th>\n",
       "      <td>16</td>\n",
       "      <td>5,241</td>\n",
       "    </tr>\n",
       "    <tr>\n",
       "      <th>50%</th>\n",
       "      <td>31</td>\n",
       "      <td>10,889</td>\n",
       "    </tr>\n",
       "    <tr>\n",
       "      <th>75%</th>\n",
       "      <td>47</td>\n",
       "      <td>16,028</td>\n",
       "    </tr>\n",
       "    <tr>\n",
       "      <th>max</th>\n",
       "      <td>59</td>\n",
       "      <td>22,167</td>\n",
       "    </tr>\n",
       "  </tbody>\n",
       "</table>\n",
       "</div>"
      ],
      "text/plain": [
       "       shop_id  item_id\n",
       "count  111,404  111,404\n",
       "mean        31   10,884\n",
       "std         17    6,154\n",
       "min          2       30\n",
       "25%         16    5,241\n",
       "50%         31   10,889\n",
       "75%         47   16,028\n",
       "max         59   22,167"
      ]
     },
     "metadata": {},
     "output_type": "display_data"
    },
    {
     "data": {
      "text/plain": [
       "'unique value of shop_id: 42'"
      ]
     },
     "metadata": {},
     "output_type": "display_data"
    },
    {
     "data": {
      "text/plain": [
       "'unique value of item_id: 4716'"
      ]
     },
     "metadata": {},
     "output_type": "display_data"
    },
    {
     "name": "stdout",
     "output_type": "stream",
     "text": [
      "time: 131 ms\n"
     ]
    }
   ],
   "source": [
    "reduced_comb = reduced_sales[['shop_id', 'item_id']]\n",
    "reduced_comb = reduced_comb.drop_duplicates()\n",
    "display(reduced_comb.describe())\n",
    "display('unique value of shop_id: ' + str(len(reduced_comb.shop_id.unique())))\n",
    "display('unique value of item_id: ' + str(len(reduced_comb.item_id.unique())))"
   ]
  },
  {
   "cell_type": "code",
   "execution_count": 10,
   "metadata": {
    "scrolled": true
   },
   "outputs": [
    {
     "data": {
      "text/html": [
       "<div>\n",
       "<style scoped>\n",
       "    .dataframe tbody tr th:only-of-type {\n",
       "        vertical-align: middle;\n",
       "    }\n",
       "\n",
       "    .dataframe tbody tr th {\n",
       "        vertical-align: top;\n",
       "    }\n",
       "\n",
       "    .dataframe thead th {\n",
       "        text-align: right;\n",
       "    }\n",
       "</style>\n",
       "<table border=\"1\" class=\"dataframe\">\n",
       "  <thead>\n",
       "    <tr style=\"text-align: right;\">\n",
       "      <th></th>\n",
       "      <th>ID</th>\n",
       "      <th>shop_id</th>\n",
       "      <th>item_id</th>\n",
       "    </tr>\n",
       "  </thead>\n",
       "  <tbody>\n",
       "    <tr>\n",
       "      <th>count</th>\n",
       "      <td>214,200</td>\n",
       "      <td>214,200</td>\n",
       "      <td>214,200</td>\n",
       "    </tr>\n",
       "    <tr>\n",
       "      <th>mean</th>\n",
       "      <td>107,100</td>\n",
       "      <td>32</td>\n",
       "      <td>11,019</td>\n",
       "    </tr>\n",
       "    <tr>\n",
       "      <th>std</th>\n",
       "      <td>61,834</td>\n",
       "      <td>18</td>\n",
       "      <td>6,253</td>\n",
       "    </tr>\n",
       "    <tr>\n",
       "      <th>min</th>\n",
       "      <td>0</td>\n",
       "      <td>2</td>\n",
       "      <td>30</td>\n",
       "    </tr>\n",
       "    <tr>\n",
       "      <th>25%</th>\n",
       "      <td>53,550</td>\n",
       "      <td>16</td>\n",
       "      <td>5,382</td>\n",
       "    </tr>\n",
       "    <tr>\n",
       "      <th>50%</th>\n",
       "      <td>107,100</td>\n",
       "      <td>34</td>\n",
       "      <td>11,203</td>\n",
       "    </tr>\n",
       "    <tr>\n",
       "      <th>75%</th>\n",
       "      <td>160,649</td>\n",
       "      <td>47</td>\n",
       "      <td>16,072</td>\n",
       "    </tr>\n",
       "    <tr>\n",
       "      <th>max</th>\n",
       "      <td>214,199</td>\n",
       "      <td>59</td>\n",
       "      <td>22,167</td>\n",
       "    </tr>\n",
       "  </tbody>\n",
       "</table>\n",
       "</div>"
      ],
      "text/plain": [
       "           ID  shop_id  item_id\n",
       "count 214,200  214,200  214,200\n",
       "mean  107,100       32   11,019\n",
       "std    61,834       18    6,253\n",
       "min         0        2       30\n",
       "25%    53,550       16    5,382\n",
       "50%   107,100       34   11,203\n",
       "75%   160,649       47   16,072\n",
       "max   214,199       59   22,167"
      ]
     },
     "metadata": {},
     "output_type": "display_data"
    },
    {
     "data": {
      "text/plain": [
       "'unique value of shop_id: 42'"
      ]
     },
     "metadata": {},
     "output_type": "display_data"
    },
    {
     "data": {
      "text/plain": [
       "'unique value of item_id: 5100'"
      ]
     },
     "metadata": {},
     "output_type": "display_data"
    },
    {
     "name": "stdout",
     "output_type": "stream",
     "text": [
      "time: 66.5 ms\n"
     ]
    }
   ],
   "source": [
    "display(test.describe())\n",
    "display('unique value of shop_id: ' + str(len(test.shop_id.unique())))\n",
    "display('unique value of item_id: ' + str(len(test.item_id.unique())))"
   ]
  },
  {
   "cell_type": "markdown",
   "metadata": {},
   "source": [
    "| data | full | reduced | test |\n",
    "|------|------| ------- | ---- |\n",
    "| shop_id | 60 | 42 | 42 |\n",
    "| item_id | 21,807 | 4,716 | 5100 |\n",
    "| total | 424,124 | 111,404 | 214,200 |\n",
    "| possible | 1,308,420 | 198,072 | 214,200 |\n",
    "| ratio | 32.4% | 56.2% | 100% |"
   ]
  },
  {
   "cell_type": "markdown",
   "metadata": {},
   "source": [
    "Our target is 214,200 combination. However, in the reduced data, there is only 4,716 unique item_ids. It means that 385 item was not sold in that period. In the combination, there is more zero sold combinations. It's almost half of the test combinations. In the full data set, zero sold combination ratios is abount 1/3. This is not so big gap between them. I think the important is the number of item_id. The test unique item_id is almost 1/4 of full data item_id. If we use one hot encoding for item_id, we can use only 1/4 of memory.\n",
    "\n",
    "I focused on something else. The total number of the combinations in the test is 214,200, but 111,404 in the reduced dataset. It means that only about half of combinations exists in sales data. One more data selection options is selecting only data in 111,404 combinations. I'm going to use the test dataset first, and then I'll use smaller and bigger one."
   ]
  },
  {
   "cell_type": "code",
   "execution_count": 11,
   "metadata": {},
   "outputs": [
    {
     "name": "stdout",
     "output_type": "stream",
     "text": [
      "time: 950 µs\n"
     ]
    }
   ],
   "source": [
    "del full_comb, reduced_comb, reduced_sales"
   ]
  },
  {
   "cell_type": "markdown",
   "metadata": {},
   "source": [
    "# Get applicable dataset to models"
   ]
  },
  {
   "cell_type": "markdown",
   "metadata": {},
   "source": [
    "First, define a useful function to save a memory."
   ]
  },
  {
   "cell_type": "code",
   "execution_count": 12,
   "metadata": {},
   "outputs": [
    {
     "name": "stdout",
     "output_type": "stream",
     "text": [
      "time: 8.58 ms\n"
     ]
    }
   ],
   "source": [
    "def downcast_dtypes(df):\n",
    "    '''\n",
    "        Changes column types in the dataframe: \n",
    "                \n",
    "                `float64` type to `float32`\n",
    "                `int64`   type to `int32`\n",
    "    '''\n",
    "    \n",
    "    # Select columns to downcast\n",
    "    float_cols = [c for c in df if df[c].dtype == \"float64\"]\n",
    "    int_cols =   [c for c in df if df[c].dtype == \"int64\"]\n",
    "    \n",
    "    # Downcast\n",
    "    df[float_cols] = df[float_cols].astype(np.float32)\n",
    "    df[int_cols]   = df[int_cols].astype(np.int32)\n",
    "    \n",
    "    return df"
   ]
  },
  {
   "cell_type": "markdown",
   "metadata": {},
   "source": [
    "### 1. Get base data form"
   ]
  },
  {
   "cell_type": "markdown",
   "metadata": {},
   "source": [
    "The form should have 'shop_id', 'item_id', 'date_block_num' because the required form of this competition is 'ID' made of 'shop_id' and 'item_id', and 'item_cnt_month'."
   ]
  },
  {
   "cell_type": "code",
   "execution_count": 13,
   "metadata": {},
   "outputs": [
    {
     "name": "stdout",
     "output_type": "stream",
     "text": [
      "time: 1.46 ms\n"
     ]
    }
   ],
   "source": [
    "index_cols = ['shop_id', 'item_id', 'date_block_num']"
   ]
  },
  {
   "cell_type": "code",
   "execution_count": 14,
   "metadata": {},
   "outputs": [
    {
     "name": "stdout",
     "output_type": "stream",
     "text": [
      "time: 9.01 s\n"
     ]
    }
   ],
   "source": [
    "gb = sales.groupby(index_cols, as_index=False).sum().rename(columns={'item_cnt_day':'month_sale'})\n",
    "# 가격 정보를 사용할 것인지 아직 모름. 사용한다면 살려야 함.\n",
    "gb = gb.drop('item_price', axis=1)\n",
    "\n",
    "df1 = pd.DataFrame({'shop_id': np.sort(shops.shop_id.unique()), 'key':np.zeros(len(shops.shop_id.unique()))})\n",
    "df2 = pd.DataFrame({'item_id': np.sort(items.item_id.unique()), 'key':np.zeros(len(items.item_id.unique()))})\n",
    "df3 = pd.DataFrame({'date_block_num': np.sort(gb.date_block_num.unique()), 'key':np.zeros(len(gb.date_block_num.unique()))})\n",
    "\n",
    "df = df1.merge(df2).merge(df3)\n",
    "\n",
    "del df1, df2, df3\n",
    "\n",
    "df = df.drop('key', axis=1)"
   ]
  },
  {
   "cell_type": "code",
   "execution_count": 15,
   "metadata": {},
   "outputs": [
    {
     "data": {
      "text/plain": [
       "109"
      ]
     },
     "execution_count": 15,
     "metadata": {},
     "output_type": "execute_result"
    },
    {
     "name": "stdout",
     "output_type": "stream",
     "text": [
      "time: 19.8 s\n"
     ]
    }
   ],
   "source": [
    "df = df.merge(gb, how='outer').fillna(0)\n",
    "\n",
    "del gb\n",
    "\n",
    "df.head()\n",
    "\n",
    "df = downcast_dtypes(df)\n",
    "\n",
    "gc.collect()"
   ]
  },
  {
   "cell_type": "code",
   "execution_count": 16,
   "metadata": {
    "scrolled": false
   },
   "outputs": [
    {
     "name": "stdout",
     "output_type": "stream",
     "text": [
      "time: 941 µs\n"
     ]
    }
   ],
   "source": [
    "pd.options.display.float_format = '{:,.3f}'.format"
   ]
  },
  {
   "cell_type": "markdown",
   "metadata": {},
   "source": [
    "# Clip (0, 20) before making something"
   ]
  },
  {
   "cell_type": "code",
   "execution_count": 17,
   "metadata": {
    "scrolled": true
   },
   "outputs": [
    {
     "name": "stdout",
     "output_type": "stream",
     "text": [
      "time: 365 ms\n"
     ]
    }
   ],
   "source": [
    "df.month_sale = df.month_sale.values.clip(0,20)"
   ]
  },
  {
   "cell_type": "markdown",
   "metadata": {},
   "source": [
    "# montly sale in the shop"
   ]
  },
  {
   "cell_type": "code",
   "execution_count": 18,
   "metadata": {},
   "outputs": [
    {
     "data": {
      "text/html": [
       "<div>\n",
       "<style scoped>\n",
       "    .dataframe tbody tr th:only-of-type {\n",
       "        vertical-align: middle;\n",
       "    }\n",
       "\n",
       "    .dataframe tbody tr th {\n",
       "        vertical-align: top;\n",
       "    }\n",
       "\n",
       "    .dataframe thead th {\n",
       "        text-align: right;\n",
       "    }\n",
       "</style>\n",
       "<table border=\"1\" class=\"dataframe\">\n",
       "  <thead>\n",
       "    <tr style=\"text-align: right;\">\n",
       "      <th></th>\n",
       "      <th>shop_id</th>\n",
       "      <th>date_block_num</th>\n",
       "      <th>month_sale_shop</th>\n",
       "    </tr>\n",
       "  </thead>\n",
       "  <tbody>\n",
       "    <tr>\n",
       "      <th>0</th>\n",
       "      <td>0</td>\n",
       "      <td>0</td>\n",
       "      <td>5,411.000</td>\n",
       "    </tr>\n",
       "    <tr>\n",
       "      <th>1</th>\n",
       "      <td>0</td>\n",
       "      <td>1</td>\n",
       "      <td>5,820.000</td>\n",
       "    </tr>\n",
       "    <tr>\n",
       "      <th>2</th>\n",
       "      <td>0</td>\n",
       "      <td>2</td>\n",
       "      <td>0.000</td>\n",
       "    </tr>\n",
       "    <tr>\n",
       "      <th>3</th>\n",
       "      <td>0</td>\n",
       "      <td>3</td>\n",
       "      <td>0.000</td>\n",
       "    </tr>\n",
       "    <tr>\n",
       "      <th>4</th>\n",
       "      <td>0</td>\n",
       "      <td>4</td>\n",
       "      <td>0.000</td>\n",
       "    </tr>\n",
       "  </tbody>\n",
       "</table>\n",
       "</div>"
      ],
      "text/plain": [
       "   shop_id  date_block_num  month_sale_shop\n",
       "0        0               0        5,411.000\n",
       "1        0               1        5,820.000\n",
       "2        0               2            0.000\n",
       "3        0               3            0.000\n",
       "4        0               4            0.000"
      ]
     },
     "execution_count": 18,
     "metadata": {},
     "output_type": "execute_result"
    },
    {
     "name": "stdout",
     "output_type": "stream",
     "text": [
      "time: 6.32 s\n"
     ]
    }
   ],
   "source": [
    "shop_gb = df.groupby(['shop_id', 'date_block_num'], as_index=False).sum()\n",
    "shop_gb = shop_gb.rename(columns={'month_sale':'month_sale_shop'})\n",
    "shop_gb = shop_gb.drop(columns=['item_id'])\n",
    "shop_gb.head()"
   ]
  },
  {
   "cell_type": "code",
   "execution_count": 19,
   "metadata": {},
   "outputs": [
    {
     "data": {
      "text/html": [
       "<div>\n",
       "<style scoped>\n",
       "    .dataframe tbody tr th:only-of-type {\n",
       "        vertical-align: middle;\n",
       "    }\n",
       "\n",
       "    .dataframe tbody tr th {\n",
       "        vertical-align: top;\n",
       "    }\n",
       "\n",
       "    .dataframe thead th {\n",
       "        text-align: right;\n",
       "    }\n",
       "</style>\n",
       "<table border=\"1\" class=\"dataframe\">\n",
       "  <thead>\n",
       "    <tr style=\"text-align: right;\">\n",
       "      <th></th>\n",
       "      <th>item_id</th>\n",
       "      <th>date_block_num</th>\n",
       "      <th>month_sale_item</th>\n",
       "    </tr>\n",
       "  </thead>\n",
       "  <tbody>\n",
       "    <tr>\n",
       "      <th>0</th>\n",
       "      <td>0</td>\n",
       "      <td>0</td>\n",
       "      <td>0.000</td>\n",
       "    </tr>\n",
       "    <tr>\n",
       "      <th>1</th>\n",
       "      <td>0</td>\n",
       "      <td>1</td>\n",
       "      <td>0.000</td>\n",
       "    </tr>\n",
       "    <tr>\n",
       "      <th>2</th>\n",
       "      <td>0</td>\n",
       "      <td>2</td>\n",
       "      <td>0.000</td>\n",
       "    </tr>\n",
       "    <tr>\n",
       "      <th>3</th>\n",
       "      <td>0</td>\n",
       "      <td>3</td>\n",
       "      <td>0.000</td>\n",
       "    </tr>\n",
       "    <tr>\n",
       "      <th>4</th>\n",
       "      <td>0</td>\n",
       "      <td>4</td>\n",
       "      <td>0.000</td>\n",
       "    </tr>\n",
       "  </tbody>\n",
       "</table>\n",
       "</div>"
      ],
      "text/plain": [
       "   item_id  date_block_num  month_sale_item\n",
       "0        0               0            0.000\n",
       "1        0               1            0.000\n",
       "2        0               2            0.000\n",
       "3        0               3            0.000\n",
       "4        0               4            0.000"
      ]
     },
     "execution_count": 19,
     "metadata": {},
     "output_type": "execute_result"
    },
    {
     "name": "stdout",
     "output_type": "stream",
     "text": [
      "time: 6.9 s\n"
     ]
    }
   ],
   "source": [
    "# 총합을 주는게 좋을까 전체 샵의 수로 나누는게 좋을까? 샵에 대해서는 어쩔까?\n",
    "item_gb = df.groupby(['item_id', 'date_block_num'], as_index=False).sum()\n",
    "item_gb = item_gb.rename(columns={'month_sale':'month_sale_item'})\n",
    "item_gb = item_gb.drop(columns=['shop_id'])\n",
    "item_gb.head()"
   ]
  },
  {
   "cell_type": "code",
   "execution_count": 20,
   "metadata": {
    "scrolled": false
   },
   "outputs": [
    {
     "data": {
      "text/html": [
       "<div>\n",
       "<style scoped>\n",
       "    .dataframe tbody tr th:only-of-type {\n",
       "        vertical-align: middle;\n",
       "    }\n",
       "\n",
       "    .dataframe tbody tr th {\n",
       "        vertical-align: top;\n",
       "    }\n",
       "\n",
       "    .dataframe thead th {\n",
       "        text-align: right;\n",
       "    }\n",
       "</style>\n",
       "<table border=\"1\" class=\"dataframe\">\n",
       "  <thead>\n",
       "    <tr style=\"text-align: right;\">\n",
       "      <th></th>\n",
       "      <th>shop_id</th>\n",
       "      <th>item_id</th>\n",
       "      <th>date_block_num</th>\n",
       "      <th>month_sale</th>\n",
       "      <th>month_sale_shop</th>\n",
       "    </tr>\n",
       "  </thead>\n",
       "  <tbody>\n",
       "    <tr>\n",
       "      <th>0</th>\n",
       "      <td>0</td>\n",
       "      <td>0</td>\n",
       "      <td>0</td>\n",
       "      <td>0.000</td>\n",
       "      <td>5,411.000</td>\n",
       "    </tr>\n",
       "    <tr>\n",
       "      <th>1</th>\n",
       "      <td>0</td>\n",
       "      <td>0</td>\n",
       "      <td>1</td>\n",
       "      <td>0.000</td>\n",
       "      <td>5,820.000</td>\n",
       "    </tr>\n",
       "    <tr>\n",
       "      <th>2</th>\n",
       "      <td>0</td>\n",
       "      <td>0</td>\n",
       "      <td>2</td>\n",
       "      <td>0.000</td>\n",
       "      <td>0.000</td>\n",
       "    </tr>\n",
       "    <tr>\n",
       "      <th>3</th>\n",
       "      <td>0</td>\n",
       "      <td>0</td>\n",
       "      <td>3</td>\n",
       "      <td>0.000</td>\n",
       "      <td>0.000</td>\n",
       "    </tr>\n",
       "    <tr>\n",
       "      <th>4</th>\n",
       "      <td>0</td>\n",
       "      <td>0</td>\n",
       "      <td>4</td>\n",
       "      <td>0.000</td>\n",
       "      <td>0.000</td>\n",
       "    </tr>\n",
       "  </tbody>\n",
       "</table>\n",
       "</div>"
      ],
      "text/plain": [
       "   shop_id  item_id  date_block_num  month_sale  month_sale_shop\n",
       "0        0        0               0       0.000        5,411.000\n",
       "1        0        0               1       0.000        5,820.000\n",
       "2        0        0               2       0.000            0.000\n",
       "3        0        0               3       0.000            0.000\n",
       "4        0        0               4       0.000            0.000"
      ]
     },
     "execution_count": 20,
     "metadata": {},
     "output_type": "execute_result"
    },
    {
     "name": "stdout",
     "output_type": "stream",
     "text": [
      "time: 11.2 s\n"
     ]
    }
   ],
   "source": [
    "df = df.merge(shop_gb, how='left').fillna(0)\n",
    "df.head()"
   ]
  },
  {
   "cell_type": "code",
   "execution_count": 21,
   "metadata": {},
   "outputs": [
    {
     "data": {
      "text/html": [
       "<div>\n",
       "<style scoped>\n",
       "    .dataframe tbody tr th:only-of-type {\n",
       "        vertical-align: middle;\n",
       "    }\n",
       "\n",
       "    .dataframe tbody tr th {\n",
       "        vertical-align: top;\n",
       "    }\n",
       "\n",
       "    .dataframe thead th {\n",
       "        text-align: right;\n",
       "    }\n",
       "</style>\n",
       "<table border=\"1\" class=\"dataframe\">\n",
       "  <thead>\n",
       "    <tr style=\"text-align: right;\">\n",
       "      <th></th>\n",
       "      <th>shop_id</th>\n",
       "      <th>item_id</th>\n",
       "      <th>date_block_num</th>\n",
       "      <th>month_sale</th>\n",
       "      <th>month_sale_shop</th>\n",
       "      <th>month_sale_item</th>\n",
       "    </tr>\n",
       "  </thead>\n",
       "  <tbody>\n",
       "    <tr>\n",
       "      <th>0</th>\n",
       "      <td>0</td>\n",
       "      <td>0</td>\n",
       "      <td>0</td>\n",
       "      <td>0.000</td>\n",
       "      <td>5,411.000</td>\n",
       "      <td>0.000</td>\n",
       "    </tr>\n",
       "    <tr>\n",
       "      <th>1</th>\n",
       "      <td>0</td>\n",
       "      <td>0</td>\n",
       "      <td>1</td>\n",
       "      <td>0.000</td>\n",
       "      <td>5,820.000</td>\n",
       "      <td>0.000</td>\n",
       "    </tr>\n",
       "    <tr>\n",
       "      <th>2</th>\n",
       "      <td>0</td>\n",
       "      <td>0</td>\n",
       "      <td>2</td>\n",
       "      <td>0.000</td>\n",
       "      <td>0.000</td>\n",
       "      <td>0.000</td>\n",
       "    </tr>\n",
       "    <tr>\n",
       "      <th>3</th>\n",
       "      <td>0</td>\n",
       "      <td>0</td>\n",
       "      <td>3</td>\n",
       "      <td>0.000</td>\n",
       "      <td>0.000</td>\n",
       "      <td>0.000</td>\n",
       "    </tr>\n",
       "    <tr>\n",
       "      <th>4</th>\n",
       "      <td>0</td>\n",
       "      <td>0</td>\n",
       "      <td>4</td>\n",
       "      <td>0.000</td>\n",
       "      <td>0.000</td>\n",
       "      <td>0.000</td>\n",
       "    </tr>\n",
       "  </tbody>\n",
       "</table>\n",
       "</div>"
      ],
      "text/plain": [
       "   shop_id  item_id  date_block_num  month_sale  month_sale_shop  \\\n",
       "0        0        0               0       0.000        5,411.000   \n",
       "1        0        0               1       0.000        5,820.000   \n",
       "2        0        0               2       0.000            0.000   \n",
       "3        0        0               3       0.000            0.000   \n",
       "4        0        0               4       0.000            0.000   \n",
       "\n",
       "   month_sale_item  \n",
       "0            0.000  \n",
       "1            0.000  \n",
       "2            0.000  \n",
       "3            0.000  \n",
       "4            0.000  "
      ]
     },
     "execution_count": 21,
     "metadata": {},
     "output_type": "execute_result"
    },
    {
     "name": "stdout",
     "output_type": "stream",
     "text": [
      "time: 18.4 s\n"
     ]
    }
   ],
   "source": [
    "df = df.merge(item_gb, how='left').fillna(0)\n",
    "df.head()"
   ]
  },
  {
   "cell_type": "markdown",
   "metadata": {},
   "source": [
    "# montly sale in the item"
   ]
  },
  {
   "cell_type": "markdown",
   "metadata": {},
   "source": [
    "### 2. Make lag features"
   ]
  },
  {
   "cell_type": "code",
   "execution_count": 22,
   "metadata": {},
   "outputs": [
    {
     "name": "stdout",
     "output_type": "stream",
     "text": [
      "time: 1.79 ms\n"
     ]
    }
   ],
   "source": [
    "#12개월 전체를 할 수도 있고 일부를 할 수도 있다. 난 여기서 일부만 사용\n",
    "#ensembling에선 1~5,12를 사용\n",
    "\n",
    "shift_range = [1,2,3,12]"
   ]
  },
  {
   "cell_type": "code",
   "execution_count": 23,
   "metadata": {},
   "outputs": [
    {
     "data": {
      "application/vnd.jupyter.widget-view+json": {
       "model_id": "9aa004d83c3c400d9b360bf52a07045f",
       "version_major": 2,
       "version_minor": 0
      },
      "text/html": [
       "<p>Failed to display Jupyter Widget of type <code>HBox</code>.</p>\n",
       "<p>\n",
       "  If you're reading this message in the Jupyter Notebook or JupyterLab Notebook, it may mean\n",
       "  that the widgets JavaScript is still loading. If this message persists, it\n",
       "  likely means that the widgets JavaScript library is either not installed or\n",
       "  not enabled. See the <a href=\"https://ipywidgets.readthedocs.io/en/stable/user_install.html\">Jupyter\n",
       "  Widgets Documentation</a> for setup instructions.\n",
       "</p>\n",
       "<p>\n",
       "  If you're reading this message in another frontend (for example, a static\n",
       "  rendering on GitHub or <a href=\"https://nbviewer.jupyter.org/\">NBViewer</a>),\n",
       "  it may mean that your frontend doesn't currently support widgets.\n",
       "</p>\n"
      ],
      "text/plain": [
       "HBox(children=(IntProgress(value=0, max=4), HTML(value='')))"
      ]
     },
     "metadata": {},
     "output_type": "display_data"
    },
    {
     "name": "stdout",
     "output_type": "stream",
     "text": [
      "\n",
      "time: 5min 6s\n"
     ]
    }
   ],
   "source": [
    "# List of columns that we will use to create lags\n",
    "cols_to_rename = list(df.columns.difference(index_cols)) \n",
    "\n",
    "lag_df = df\n",
    "\n",
    "for month_shift in tqdm_notebook(shift_range):\n",
    "    train_shift = lag_df[index_cols + cols_to_rename].copy()\n",
    "    train_shift['date_block_num'] = train_shift['date_block_num'] + month_shift\n",
    "    \n",
    "    foo = lambda x: '{}_lag_{}'.format(x, month_shift) if x in cols_to_rename else x\n",
    "    train_shift = train_shift.rename(columns=foo)\n",
    "\n",
    "    lag_df = lag_df.merge(train_shift, how='outer')\n",
    "    del train_shift\n",
    "    lag_df = downcast_dtypes(lag_df)\n",
    "    gc.collect()"
   ]
  },
  {
   "cell_type": "markdown",
   "metadata": {},
   "source": [
    "- 위 작업이 시간이 오래걸리므로 csv나 npy파일로 만든 후에 저장했다가 부르는건 어떨까?\n",
    "- validation용 traing set과 test용 traing set을 분리시킨 후에 파이프 라인을 만들어서 코드를 깔끔하게 만들자\n",
    "- 작업이 끝나면 Knn feature와 mean encoding 방법을 적용할 방법을 생각해보자\n",
    "- 마지막은 ensemble을 해보자"
   ]
  },
  {
   "cell_type": "markdown",
   "metadata": {},
   "source": [
    "### 3. Trim lag_df"
   ]
  },
  {
   "cell_type": "code",
   "execution_count": 24,
   "metadata": {},
   "outputs": [
    {
     "name": "stdout",
     "output_type": "stream",
     "text": [
      "time: 26.5 s\n"
     ]
    }
   ],
   "source": [
    "# Don't use old data from year 2013(because we use 12 months lag data in the target)\n",
    "# to make submission 33 -> 34\n",
    "\n",
    "valid_last = 33\n",
    "test_last = 34\n",
    "\n",
    "lag_df = lag_df[12 <= lag_df.date_block_num]\n",
    "lag_df = lag_df[lag_df.date_block_num <= test_last]\n",
    "lag_df = lag_df.fillna(0)\n",
    "lag_df = downcast_dtypes(lag_df)"
   ]
  },
  {
   "cell_type": "markdown",
   "metadata": {},
   "source": [
    "### 4. Save lag_df"
   ]
  },
  {
   "cell_type": "code",
   "execution_count": 25,
   "metadata": {},
   "outputs": [
    {
     "name": "stdout",
     "output_type": "stream",
     "text": [
      "time: 9.03 ms\n"
     ]
    }
   ],
   "source": [
    "# lag_df.to_csv(\"full_lag_df.csv\", sep=\",\", index=False)"
   ]
  },
  {
   "cell_type": "markdown",
   "metadata": {},
   "source": [
    "### 5. load lag_df"
   ]
  },
  {
   "cell_type": "code",
   "execution_count": 26,
   "metadata": {},
   "outputs": [
    {
     "name": "stdout",
     "output_type": "stream",
     "text": [
      "time: 2.86 ms\n"
     ]
    }
   ],
   "source": [
    "# lag_df = pd.read_csv(\"full_lag_df.csv\")\n",
    "# lag_df = downcast_dtypes(lag_df)"
   ]
  },
  {
   "cell_type": "code",
   "execution_count": 27,
   "metadata": {},
   "outputs": [
    {
     "name": "stdout",
     "output_type": "stream",
     "text": [
      "time: 14.5 ms\n"
     ]
    }
   ],
   "source": [
    "#shift_range = [1,2,3,12]\n",
    "# List of all lagged features\n",
    "fit_cols = [col for col in lag_df.columns if col[-1] in [str(item) for item in shift_range]] \n",
    "# We will drop these at fitting stage\n",
    "to_drop_cols = list(set(list(lag_df.columns)) - (set(fit_cols)|set(index_cols))) + ['date_block_num'] "
   ]
  },
  {
   "cell_type": "code",
   "execution_count": 28,
   "metadata": {},
   "outputs": [
    {
     "data": {
      "text/html": [
       "<div>\n",
       "<style scoped>\n",
       "    .dataframe tbody tr th:only-of-type {\n",
       "        vertical-align: middle;\n",
       "    }\n",
       "\n",
       "    .dataframe tbody tr th {\n",
       "        vertical-align: top;\n",
       "    }\n",
       "\n",
       "    .dataframe thead th {\n",
       "        text-align: right;\n",
       "    }\n",
       "</style>\n",
       "<table border=\"1\" class=\"dataframe\">\n",
       "  <thead>\n",
       "    <tr style=\"text-align: right;\">\n",
       "      <th></th>\n",
       "      <th>shop_id</th>\n",
       "      <th>item_id</th>\n",
       "      <th>date_block_num</th>\n",
       "      <th>month_sale</th>\n",
       "      <th>month_sale_shop</th>\n",
       "      <th>month_sale_item</th>\n",
       "      <th>month_sale_lag_1</th>\n",
       "      <th>month_sale_item_lag_1</th>\n",
       "      <th>month_sale_shop_lag_1</th>\n",
       "      <th>month_sale_lag_2</th>\n",
       "      <th>month_sale_item_lag_2</th>\n",
       "      <th>month_sale_shop_lag_2</th>\n",
       "      <th>month_sale_lag_3</th>\n",
       "      <th>month_sale_item_lag_3</th>\n",
       "      <th>month_sale_shop_lag_3</th>\n",
       "      <th>month_sale_lag_12</th>\n",
       "      <th>month_sale_item_lag_12</th>\n",
       "      <th>month_sale_shop_lag_12</th>\n",
       "    </tr>\n",
       "  </thead>\n",
       "  <tbody>\n",
       "    <tr>\n",
       "      <th>12</th>\n",
       "      <td>0</td>\n",
       "      <td>0</td>\n",
       "      <td>12</td>\n",
       "      <td>0.000</td>\n",
       "      <td>0.000</td>\n",
       "      <td>0.000</td>\n",
       "      <td>0.000</td>\n",
       "      <td>0.000</td>\n",
       "      <td>0.000</td>\n",
       "      <td>0.000</td>\n",
       "      <td>0.000</td>\n",
       "      <td>0.000</td>\n",
       "      <td>0.000</td>\n",
       "      <td>0.000</td>\n",
       "      <td>0.000</td>\n",
       "      <td>0.000</td>\n",
       "      <td>0.000</td>\n",
       "      <td>5,411.000</td>\n",
       "    </tr>\n",
       "    <tr>\n",
       "      <th>13</th>\n",
       "      <td>0</td>\n",
       "      <td>0</td>\n",
       "      <td>13</td>\n",
       "      <td>0.000</td>\n",
       "      <td>0.000</td>\n",
       "      <td>0.000</td>\n",
       "      <td>0.000</td>\n",
       "      <td>0.000</td>\n",
       "      <td>0.000</td>\n",
       "      <td>0.000</td>\n",
       "      <td>0.000</td>\n",
       "      <td>0.000</td>\n",
       "      <td>0.000</td>\n",
       "      <td>0.000</td>\n",
       "      <td>0.000</td>\n",
       "      <td>0.000</td>\n",
       "      <td>0.000</td>\n",
       "      <td>5,820.000</td>\n",
       "    </tr>\n",
       "    <tr>\n",
       "      <th>14</th>\n",
       "      <td>0</td>\n",
       "      <td>0</td>\n",
       "      <td>14</td>\n",
       "      <td>0.000</td>\n",
       "      <td>0.000</td>\n",
       "      <td>0.000</td>\n",
       "      <td>0.000</td>\n",
       "      <td>0.000</td>\n",
       "      <td>0.000</td>\n",
       "      <td>0.000</td>\n",
       "      <td>0.000</td>\n",
       "      <td>0.000</td>\n",
       "      <td>0.000</td>\n",
       "      <td>0.000</td>\n",
       "      <td>0.000</td>\n",
       "      <td>0.000</td>\n",
       "      <td>0.000</td>\n",
       "      <td>0.000</td>\n",
       "    </tr>\n",
       "    <tr>\n",
       "      <th>15</th>\n",
       "      <td>0</td>\n",
       "      <td>0</td>\n",
       "      <td>15</td>\n",
       "      <td>0.000</td>\n",
       "      <td>0.000</td>\n",
       "      <td>0.000</td>\n",
       "      <td>0.000</td>\n",
       "      <td>0.000</td>\n",
       "      <td>0.000</td>\n",
       "      <td>0.000</td>\n",
       "      <td>0.000</td>\n",
       "      <td>0.000</td>\n",
       "      <td>0.000</td>\n",
       "      <td>0.000</td>\n",
       "      <td>0.000</td>\n",
       "      <td>0.000</td>\n",
       "      <td>0.000</td>\n",
       "      <td>0.000</td>\n",
       "    </tr>\n",
       "    <tr>\n",
       "      <th>16</th>\n",
       "      <td>0</td>\n",
       "      <td>0</td>\n",
       "      <td>16</td>\n",
       "      <td>0.000</td>\n",
       "      <td>0.000</td>\n",
       "      <td>0.000</td>\n",
       "      <td>0.000</td>\n",
       "      <td>0.000</td>\n",
       "      <td>0.000</td>\n",
       "      <td>0.000</td>\n",
       "      <td>0.000</td>\n",
       "      <td>0.000</td>\n",
       "      <td>0.000</td>\n",
       "      <td>0.000</td>\n",
       "      <td>0.000</td>\n",
       "      <td>0.000</td>\n",
       "      <td>0.000</td>\n",
       "      <td>0.000</td>\n",
       "    </tr>\n",
       "  </tbody>\n",
       "</table>\n",
       "</div>"
      ],
      "text/plain": [
       "    shop_id  item_id  date_block_num  month_sale  month_sale_shop  \\\n",
       "12        0        0              12       0.000            0.000   \n",
       "13        0        0              13       0.000            0.000   \n",
       "14        0        0              14       0.000            0.000   \n",
       "15        0        0              15       0.000            0.000   \n",
       "16        0        0              16       0.000            0.000   \n",
       "\n",
       "    month_sale_item  month_sale_lag_1  month_sale_item_lag_1  \\\n",
       "12            0.000             0.000                  0.000   \n",
       "13            0.000             0.000                  0.000   \n",
       "14            0.000             0.000                  0.000   \n",
       "15            0.000             0.000                  0.000   \n",
       "16            0.000             0.000                  0.000   \n",
       "\n",
       "    month_sale_shop_lag_1  month_sale_lag_2  month_sale_item_lag_2  \\\n",
       "12                  0.000             0.000                  0.000   \n",
       "13                  0.000             0.000                  0.000   \n",
       "14                  0.000             0.000                  0.000   \n",
       "15                  0.000             0.000                  0.000   \n",
       "16                  0.000             0.000                  0.000   \n",
       "\n",
       "    month_sale_shop_lag_2  month_sale_lag_3  month_sale_item_lag_3  \\\n",
       "12                  0.000             0.000                  0.000   \n",
       "13                  0.000             0.000                  0.000   \n",
       "14                  0.000             0.000                  0.000   \n",
       "15                  0.000             0.000                  0.000   \n",
       "16                  0.000             0.000                  0.000   \n",
       "\n",
       "    month_sale_shop_lag_3  month_sale_lag_12  month_sale_item_lag_12  \\\n",
       "12                  0.000              0.000                   0.000   \n",
       "13                  0.000              0.000                   0.000   \n",
       "14                  0.000              0.000                   0.000   \n",
       "15                  0.000              0.000                   0.000   \n",
       "16                  0.000              0.000                   0.000   \n",
       "\n",
       "    month_sale_shop_lag_12  \n",
       "12               5,411.000  \n",
       "13               5,820.000  \n",
       "14                   0.000  \n",
       "15                   0.000  \n",
       "16                   0.000  "
      ]
     },
     "execution_count": 28,
     "metadata": {},
     "output_type": "execute_result"
    },
    {
     "name": "stdout",
     "output_type": "stream",
     "text": [
      "time: 41.1 ms\n"
     ]
    }
   ],
   "source": [
    "lag_df.head()"
   ]
  },
  {
   "cell_type": "markdown",
   "metadata": {},
   "source": [
    "# Feature engineering part"
   ]
  },
  {
   "cell_type": "markdown",
   "metadata": {},
   "source": [
    "1. all item cnt\n",
    "2. all shop cnt\n",
    "3. KNN features\n",
    "4. Mean encoding\n",
    "5. time series analysis"
   ]
  },
  {
   "cell_type": "markdown",
   "metadata": {},
   "source": [
    "# train / valid / test split"
   ]
  },
  {
   "cell_type": "code",
   "execution_count": 29,
   "metadata": {},
   "outputs": [
    {
     "name": "stdout",
     "output_type": "stream",
     "text": [
      "time: 33.5 s\n"
     ]
    }
   ],
   "source": [
    "# Save `date_block_num`, as we can't use them as features, but will need them to split the dataset into parts \n",
    "dates = lag_df['date_block_num']\n",
    "valid_block = 33\n",
    "test_block = 34\n",
    "\n",
    "dates_train = dates[dates <  valid_block]\n",
    "dates_valid  = dates[dates == valid_block]\n",
    "dates_test = dates[dates == test_block]\n",
    "\n",
    "X_train = lag_df.loc[dates <  valid_block].drop(to_drop_cols, axis=1).values\n",
    "y_train = lag_df.loc[dates <  valid_block, 'month_sale'].values.clip(0,20)\n",
    "\n",
    "valid = lag_df.loc[dates == valid_block]\n",
    "valid = test.merge(valid, how='left').fillna(0).drop('ID', axis=1)\n",
    "X_valid =  valid.drop(to_drop_cols, axis=1).values\n",
    "y_valid =  valid['month_sale'].values.clip(0,20)\n",
    "\n",
    "X_full_train = lag_df.loc[dates <  test_block].drop(to_drop_cols, axis=1).values\n",
    "y_full_train = lag_df.loc[dates <  test_block, 'month_sale'].values.clip(0,20)\n",
    "X_test = lag_df.loc[dates == test_block].drop(to_drop_cols, axis=1).values\n",
    "#X_test = test.merge(lag_df.loc[dates == test_block], how='left').fillna(0).drop(to_drop_cols + ['ID'], axis=1)"
   ]
  },
  {
   "cell_type": "markdown",
   "metadata": {},
   "source": [
    "# Define this competition metric as a function"
   ]
  },
  {
   "cell_type": "markdown",
   "metadata": {},
   "source": [
    "# First level models "
   ]
  },
  {
   "cell_type": "markdown",
   "metadata": {},
   "source": [
    "1. half: 1,2,3,6,9,12\n",
    "2. 1/3: 1,2,3,12"
   ]
  },
  {
   "cell_type": "markdown",
   "metadata": {},
   "source": [
    "- LinearRegression\n",
    "    1. yonly\n",
    "        1. 1-12: 0.933236273624 => 1.09279\n",
    "        2. half: 0.931571168513 - 16.4 s\n",
    "        3. 1/3: 0.9262253239 - 11.5 s\n",
    "    2. y + shop_y + 1/3: 0.925771859478 - 30 s\n",
    "    3. item_y: 0.924365311084 - 40.8 s\n",
    "    4. clip_month_sale: 0.902686261502 - 47.1 s => 1.03034\n",
    "    5. clip(0,40): 0.908622732715 - 51 s\n",
    "- ElasticNet\n",
    "    1. yonly\n",
    "        1. 1-12: 0.912161949243 => 1.04670\n",
    "        2. half: 0.91242207741 - 21.7 s\n",
    "        3. 1/3: 0.910106878399 - 12.3 s\n",
    "    2. y + shop_y + 1/3: 0.908298623397 - 1min\n",
    "    3. item_y: 0.918947709243 - 1min 24s\n",
    "    4. clip_month_sale: 0.997504443555 - 53.8 s => 1.12730\n",
    "    5. clip(0,40): 0.986036525298 - 54.2 s\n",
    "- RandomForestRegressor\n",
    "    1. yonly \n",
    "        1. 1-12(max_depth=3): 0.980893498007\n",
    "        2. half(max_depth=10): 0.903594473573 - 3min 19s\n",
    "        3. 1/3: 0.907014417171 - 2min 40s, 0.906545092257 - 2min 44s(seed)\n",
    "    2. y + shop_y + 1/3: 0.904931700085 - 4min 56s\n",
    "    3. item_y: 0.900006389736 - 6min 21s\n",
    "    4. clip_month_sale: 0.884558830043 - 6min 54s\n",
    "    5. clip(0,40): 0.888263907278 - 6min 33s\n",
    "- ExtraTreesRegressor\n",
    "    1. yonly\n",
    "        1. 1-12(max_depth=5): 0.980940782649\n",
    "        2. half(max_depth=20): 0.907416246054 - 2min 6s\n",
    "        3. 1/3: 0.907362455722 - 1min 35s, 0.905973938144 - 1min 44s, 0.907614968974 - 1min 51s(seed)\n",
    "    3. item_y: 0.901501525093 - 7min 42s\n",
    "    4. clip_month_sale: 0.886585196886 - 9min 6s (not anymore.. only RF)\n",
    "- lightgbm\n",
    "    1. yonly\n",
    "        1. 1-12: 0.893098000611 => 1.02475\n",
    "        2. half: 0.894044244386 - 4min 27s\n",
    "        3. 1/3: 0.893822409009 - 3min 36s\n",
    "    3. item_y: 0.886242950874 - 5min 43s => 1.01865\n",
    "    4. ** clip_month_sale: 0.878756133684 - 5min 3s => 1.01201 **\n",
    "    5. clip(0,40): 0.878402461649 - 4min 55s"
   ]
  },
  {
   "cell_type": "code",
   "execution_count": 30,
   "metadata": {},
   "outputs": [
    {
     "name": "stdout",
     "output_type": "stream",
     "text": [
      "time: 36.8 ms\n"
     ]
    }
   ],
   "source": [
    "def rmse(y_true, y_pred):\n",
    "    return np.sqrt(mean_squared_error(np.clip(y_true, 0, 20), np.clip(y_pred, 0, 20)))\n",
    "\n",
    "def get_valid_rmse(reg):\n",
    "    reg.fit(X_train, y_train)\n",
    "    pred = reg.predict(X_valid)\n",
    "    print(rmse(pred, y_valid))\n",
    "    \n",
    "def get_valid_rmse2(reg, i):\n",
    "    reg.fit(X_train, y_train)\n",
    "    pred = reg.predict(X_valid)\n",
    "    print(i + ': ' + str(rmse(pred, y_valid)))\n",
    "    \n",
    "def get_prediction(reg):\n",
    "    reg.fit(X_full_train, y_full_train)\n",
    "    pred = reg.predict(X_test)\n",
    "    return pred"
   ]
  },
  {
   "cell_type": "code",
   "execution_count": 31,
   "metadata": {
    "scrolled": true
   },
   "outputs": [
    {
     "name": "stdout",
     "output_type": "stream",
     "text": [
      "0.902686261502\n",
      "time: 37.7 s\n"
     ]
    }
   ],
   "source": [
    "lr = LinearRegression()\n",
    "get_valid_rmse(lr)"
   ]
  },
  {
   "cell_type": "markdown",
   "metadata": {},
   "source": [
    "# ElasticNet에 grid search나 random search 활용해보기"
   ]
  },
  {
   "cell_type": "code",
   "execution_count": 33,
   "metadata": {
    "scrolled": false
   },
   "outputs": [
    {
     "name": "stdout",
     "output_type": "stream",
     "text": [
      "n-1 d-5: 0.907364982577\n",
      "n-1 d-8: 0.89459729871\n",
      "n-1 d-10: 0.895443025682\n",
      "n-1 d-13: 0.907934495971\n",
      "n-1 d-15: 0.922931800723\n",
      "n-2 d-5: 0.905816024133\n",
      "n-2 d-8: 0.892378300441\n",
      "n-2 d-10: 0.891449670099\n",
      "n-2 d-13: 0.894940465977\n",
      "n-2 d-15: 0.906524026616\n",
      "n-3 d-5: 0.904804930646\n",
      "n-3 d-8: 0.891574099542\n",
      "n-3 d-10: 0.888751033308\n",
      "n-3 d-13: 0.890498987202\n",
      "n-3 d-15: 0.897281007082\n",
      "n-4 d-5: 0.904425711382\n",
      "n-4 d-8: 0.891026194803\n",
      "n-4 d-10: 0.886066862395\n",
      "n-4 d-13: 0.887052497829\n",
      "n-4 d-15: 0.890746942068\n",
      "n-5 d-5: 0.904218191743\n",
      "n-5 d-8: 0.889983926703\n",
      "n-5 d-10: 0.884558830043\n",
      "n-5 d-13: 0.885515521105\n",
      "n-5 d-15: 0.88867127083\n",
      "n-10 d-5: 0.903706002099\n",
      "n-10 d-8: 0.889455372439\n",
      "n-10 d-10: 0.883724366696\n",
      "n-10 d-13: 0.882571987825\n",
      "n-10 d-15: 0.885643626759\n",
      "n-20 d-5: 0.903612684362\n",
      "n-20 d-8: 0.888859116109\n",
      "n-20 d-10: 0.883396754691\n",
      "n-20 d-13: 0.881203453387\n",
      "n-20 d-15: 0.881972022241\n",
      "time: 3h 47min 29s\n"
     ]
    }
   ],
   "source": [
    "n_estimators_list = [1, 2, 3, 4, 5, 10, 20]\n",
    "max_depth_list = [5, 8, 10, 13, 15]\n",
    "\n",
    "for n_est in n_estimators_list:\n",
    "    for d in max_depth_list:\n",
    "        rf = RandomForestRegressor(n_estimators=n_est, max_depth=d, n_jobs=-1, random_state=seed)\n",
    "        get_valid_rmse2(rf, 'n-' + str(n_est) + ' d-' + str(d))\n",
    "        gc.collect()"
   ]
  },
  {
   "cell_type": "code",
   "execution_count": 34,
   "metadata": {
    "scrolled": true
   },
   "outputs": [
    {
     "name": "stdout",
     "output_type": "stream",
     "text": [
      "0.880768923211\n",
      "time: 1h 4min 59s\n"
     ]
    }
   ],
   "source": [
    "rf = RandomForestRegressor(n_estimators=50, max_depth=15, n_jobs=-1, random_state=seed)\n",
    "get_valid_rmse(rf)"
   ]
  },
  {
   "cell_type": "code",
   "execution_count": 35,
   "metadata": {
    "scrolled": true
   },
   "outputs": [
    {
     "name": "stdout",
     "output_type": "stream",
     "text": [
      "0.881246216635\n",
      "time: 1h 8min 3s\n"
     ]
    }
   ],
   "source": [
    "rf = RandomForestRegressor(n_estimators=50, max_depth=16, n_jobs=-1, random_state=seed)\n",
    "get_valid_rmse(rf)"
   ]
  },
  {
   "cell_type": "code",
   "execution_count": 36,
   "metadata": {},
   "outputs": [
    {
     "name": "stdout",
     "output_type": "stream",
     "text": [
      "0.880980458672\n",
      "time: 1h 1min 33s\n"
     ]
    }
   ],
   "source": [
    "rf = RandomForestRegressor(n_estimators=50, max_depth=14, n_jobs=-1, random_state=seed)\n",
    "get_valid_rmse(rf)"
   ]
  },
  {
   "cell_type": "code",
   "execution_count": 37,
   "metadata": {},
   "outputs": [
    {
     "name": "stdout",
     "output_type": "stream",
     "text": [
      "0.880630637901\n",
      "time: 58min 53s\n"
     ]
    }
   ],
   "source": [
    "rf = RandomForestRegressor(n_estimators=50, max_depth=13, n_jobs=-1, random_state=seed)\n",
    "get_valid_rmse(rf)"
   ]
  },
  {
   "cell_type": "code",
   "execution_count": null,
   "metadata": {},
   "outputs": [],
   "source": [
    "# from an ensembling assignment\n",
    "lgb_params = {\n",
    "               'feature_fraction': 0.75,\n",
    "               'metric': 'rmse',\n",
    "               'nthread':1, \n",
    "               'min_data_in_leaf': 2**7, \n",
    "               'bagging_fraction': 0.75, \n",
    "               'learning_rate': 0.03, \n",
    "               'objective': 'mse', \n",
    "               'bagging_seed': 2**7, \n",
    "               'num_leaves': 2**7,\n",
    "               'bagging_freq':1,\n",
    "               'verbose':0 \n",
    "              }\n",
    "\n",
    "lgb = lightgbm.train(lgb_params, lightgbm.Dataset(X_train, label=y_train), 100)\n",
    "\n",
    "lgb_pred = lgb.predict(X_valid)\n",
    "\n",
    "print(rmse(lgb_pred, y_valid))"
   ]
  },
  {
   "cell_type": "code",
   "execution_count": null,
   "metadata": {},
   "outputs": [],
   "source": [
    "# lgb = lightgbm.train(lgb_params, lightgbm.Dataset(X_full_train, label=y_full_train), 100)\n",
    "\n",
    "# lgb_pred = lgb.predict(X_test)"
   ]
  },
  {
   "cell_type": "code",
   "execution_count": null,
   "metadata": {
    "scrolled": true
   },
   "outputs": [],
   "source": [
    "# #TODO: pred만 보내서 submission 만들도록 함수 만들기\n",
    "\n",
    "# pred = lgb_pred\n",
    "# dd = lag_df[dates == test_block]\n",
    "# dd.month_sale = pred\n",
    "# dd = dd[['shop_id', 'item_id', 'month_sale']]\n",
    "# dd = dd.rename(columns={'month_sale':'item_cnt_month'})\n",
    "# make_submission(dd, 'lgbwithClippedTraindata')"
   ]
  },
  {
   "cell_type": "markdown",
   "metadata": {},
   "source": [
    "# Submit to kaggle"
   ]
  },
  {
   "cell_type": "markdown",
   "metadata": {},
   "source": [
    "This cell automatically submits the submission file to kaggle. However, it should be carefully executed because the submitting opportunities are limited.\n",
    "- remove '#' before submitting\n",
    "- add a meaningful message to a submission"
   ]
  },
  {
   "cell_type": "code",
   "execution_count": null,
   "metadata": {
    "scrolled": true
   },
   "outputs": [],
   "source": [
    "#!kaggle competitions submit -c competitive-data-science-final-project -f ./submission/lgbwithClippedTraindata.csv -m \"lgb with clipped train data\""
   ]
  },
  {
   "cell_type": "markdown",
   "metadata": {},
   "source": [
    "# Check public score"
   ]
  },
  {
   "cell_type": "code",
   "execution_count": null,
   "metadata": {
    "scrolled": true
   },
   "outputs": [],
   "source": [
    "#!kaggle competitions submissions -c competitive-data-science-final-project"
   ]
  },
  {
   "cell_type": "markdown",
   "metadata": {},
   "source": [
    "For sure, it scores better with more data han less data. One more thing I want to try is using full data in training and validating with only test data id combinations."
   ]
  },
  {
   "cell_type": "markdown",
   "metadata": {},
   "source": [
    "TODO\n",
    "- clipping [0, 20] in training\n",
    "- using category, shop information, name(translated in discussion)\n",
    "- Check one hot encoding and label encoding\n",
    "- using scipy sparse matrix representation\n",
    "- elaborate valdiation scheme not only using 33 to valdiate(how about 5 folds moving window?)\n",
    "- add feature(season?)\n",
    "- can I use scipy.sparse here?"
   ]
  },
  {
   "cell_type": "code",
   "execution_count": null,
   "metadata": {},
   "outputs": [],
   "source": []
  }
 ],
 "metadata": {
  "kernelspec": {
   "display_name": "Python 3",
   "language": "python",
   "name": "python3"
  },
  "language_info": {
   "codemirror_mode": {
    "name": "ipython",
    "version": 3
   },
   "file_extension": ".py",
   "mimetype": "text/x-python",
   "name": "python",
   "nbconvert_exporter": "python",
   "pygments_lexer": "ipython3",
   "version": "3.6.4"
  }
 },
 "nbformat": 4,
 "nbformat_minor": 2
}
