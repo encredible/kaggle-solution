{
 "cells": [
  {
   "cell_type": "markdown",
   "metadata": {},
   "source": [
    "# Import libraries"
   ]
  },
  {
   "cell_type": "code",
   "execution_count": 1,
   "metadata": {},
   "outputs": [],
   "source": [
    "# you have to install ipython-autotime using 'pip install ipython-autotime'\n",
    "%load_ext autotime\n",
    "\n",
    "import gc\n",
    "import IPython.display\n",
    "import os\n",
    "import datetime\n",
    "from tqdm import tqdm_notebook\n",
    "\n",
    "import pandas as pd\n",
    "import numpy as np\n",
    "import matplotlib.pyplot as plt\n",
    "%matplotlib inline\n",
    "\n",
    "# in this project, the metric is rmse, not mse\n",
    "from sklearn.metrics import mean_squared_error\n",
    "\n",
    "# models\n",
    "from sklearn.linear_model import LinearRegression\n",
    "#SVR is too slow\n",
    "#from sklearn.svm import SVR\n",
    "from sklearn.neighbors import KNeighborsRegressor\n",
    "from sklearn.ensemble import RandomForestRegressor\n",
    "from sklearn.ensemble import ExtraTreesRegressor"
   ]
  },
  {
   "cell_type": "markdown",
   "metadata": {},
   "source": [
    "# Load datasets"
   ]
  },
  {
   "cell_type": "code",
   "execution_count": 2,
   "metadata": {},
   "outputs": [
    {
     "name": "stdout",
     "output_type": "stream",
     "text": [
      "time: 1.76 s\n"
     ]
    }
   ],
   "source": [
    "sales = pd.read_csv('./dataset/sales_train.csv.gz')\n",
    "#shops = pd.read_csv('./dataset/shops.csv')\n",
    "#items = pd.read_csv('./dataset/items.csv')\n",
    "#item_cats = pd.read_csv('./dataset/item_categories.csv')\n",
    "test = pd.read_csv(\"./dataset/test.csv.gz\")"
   ]
  },
  {
   "cell_type": "markdown",
   "metadata": {},
   "source": [
    "# Analyze raw datasets"
   ]
  },
  {
   "cell_type": "markdown",
   "metadata": {},
   "source": [
    "Let's start to anylyze basic information about give datasets."
   ]
  },
  {
   "cell_type": "code",
   "execution_count": 3,
   "metadata": {
    "scrolled": true
   },
   "outputs": [
    {
     "data": {
      "text/html": [
       "<div>\n",
       "<style scoped>\n",
       "    .dataframe tbody tr th:only-of-type {\n",
       "        vertical-align: middle;\n",
       "    }\n",
       "\n",
       "    .dataframe tbody tr th {\n",
       "        vertical-align: top;\n",
       "    }\n",
       "\n",
       "    .dataframe thead th {\n",
       "        text-align: right;\n",
       "    }\n",
       "</style>\n",
       "<table border=\"1\" class=\"dataframe\">\n",
       "  <thead>\n",
       "    <tr style=\"text-align: right;\">\n",
       "      <th></th>\n",
       "      <th>date_block_num</th>\n",
       "      <th>shop_id</th>\n",
       "      <th>item_id</th>\n",
       "      <th>item_price</th>\n",
       "      <th>item_cnt_day</th>\n",
       "    </tr>\n",
       "  </thead>\n",
       "  <tbody>\n",
       "    <tr>\n",
       "      <th>count</th>\n",
       "      <td>2,935,849</td>\n",
       "      <td>2,935,849</td>\n",
       "      <td>2,935,849</td>\n",
       "      <td>2,935,849</td>\n",
       "      <td>2,935,849</td>\n",
       "    </tr>\n",
       "    <tr>\n",
       "      <th>mean</th>\n",
       "      <td>15</td>\n",
       "      <td>33</td>\n",
       "      <td>10,197</td>\n",
       "      <td>891</td>\n",
       "      <td>1</td>\n",
       "    </tr>\n",
       "    <tr>\n",
       "      <th>std</th>\n",
       "      <td>9</td>\n",
       "      <td>16</td>\n",
       "      <td>6,324</td>\n",
       "      <td>1,730</td>\n",
       "      <td>3</td>\n",
       "    </tr>\n",
       "    <tr>\n",
       "      <th>min</th>\n",
       "      <td>0</td>\n",
       "      <td>0</td>\n",
       "      <td>0</td>\n",
       "      <td>-1</td>\n",
       "      <td>-22</td>\n",
       "    </tr>\n",
       "    <tr>\n",
       "      <th>25%</th>\n",
       "      <td>7</td>\n",
       "      <td>22</td>\n",
       "      <td>4,476</td>\n",
       "      <td>249</td>\n",
       "      <td>1</td>\n",
       "    </tr>\n",
       "    <tr>\n",
       "      <th>50%</th>\n",
       "      <td>14</td>\n",
       "      <td>31</td>\n",
       "      <td>9,343</td>\n",
       "      <td>399</td>\n",
       "      <td>1</td>\n",
       "    </tr>\n",
       "    <tr>\n",
       "      <th>75%</th>\n",
       "      <td>23</td>\n",
       "      <td>47</td>\n",
       "      <td>15,684</td>\n",
       "      <td>999</td>\n",
       "      <td>1</td>\n",
       "    </tr>\n",
       "    <tr>\n",
       "      <th>max</th>\n",
       "      <td>33</td>\n",
       "      <td>59</td>\n",
       "      <td>22,169</td>\n",
       "      <td>307,980</td>\n",
       "      <td>2,169</td>\n",
       "    </tr>\n",
       "  </tbody>\n",
       "</table>\n",
       "</div>"
      ],
      "text/plain": [
       "       date_block_num   shop_id   item_id  item_price  item_cnt_day\n",
       "count       2,935,849 2,935,849 2,935,849   2,935,849     2,935,849\n",
       "mean               15        33    10,197         891             1\n",
       "std                 9        16     6,324       1,730             3\n",
       "min                 0         0         0          -1           -22\n",
       "25%                 7        22     4,476         249             1\n",
       "50%                14        31     9,343         399             1\n",
       "75%                23        47    15,684         999             1\n",
       "max                33        59    22,169     307,980         2,169"
      ]
     },
     "execution_count": 3,
     "metadata": {},
     "output_type": "execute_result"
    },
    {
     "name": "stdout",
     "output_type": "stream",
     "text": [
      "time: 786 ms\n"
     ]
    }
   ],
   "source": [
    "# make float data looks integer data\n",
    "pd.options.display.float_format = '{:,.0f}'.format\n",
    "\n",
    "sales.describe()"
   ]
  },
  {
   "cell_type": "code",
   "execution_count": 4,
   "metadata": {},
   "outputs": [
    {
     "data": {
      "text/html": [
       "<div>\n",
       "<style scoped>\n",
       "    .dataframe tbody tr th:only-of-type {\n",
       "        vertical-align: middle;\n",
       "    }\n",
       "\n",
       "    .dataframe tbody tr th {\n",
       "        vertical-align: top;\n",
       "    }\n",
       "\n",
       "    .dataframe thead th {\n",
       "        text-align: right;\n",
       "    }\n",
       "</style>\n",
       "<table border=\"1\" class=\"dataframe\">\n",
       "  <thead>\n",
       "    <tr style=\"text-align: right;\">\n",
       "      <th></th>\n",
       "      <th>ID</th>\n",
       "      <th>shop_id</th>\n",
       "      <th>item_id</th>\n",
       "    </tr>\n",
       "  </thead>\n",
       "  <tbody>\n",
       "    <tr>\n",
       "      <th>count</th>\n",
       "      <td>214,200</td>\n",
       "      <td>214,200</td>\n",
       "      <td>214,200</td>\n",
       "    </tr>\n",
       "    <tr>\n",
       "      <th>mean</th>\n",
       "      <td>107,100</td>\n",
       "      <td>32</td>\n",
       "      <td>11,019</td>\n",
       "    </tr>\n",
       "    <tr>\n",
       "      <th>std</th>\n",
       "      <td>61,834</td>\n",
       "      <td>18</td>\n",
       "      <td>6,253</td>\n",
       "    </tr>\n",
       "    <tr>\n",
       "      <th>min</th>\n",
       "      <td>0</td>\n",
       "      <td>2</td>\n",
       "      <td>30</td>\n",
       "    </tr>\n",
       "    <tr>\n",
       "      <th>25%</th>\n",
       "      <td>53,550</td>\n",
       "      <td>16</td>\n",
       "      <td>5,382</td>\n",
       "    </tr>\n",
       "    <tr>\n",
       "      <th>50%</th>\n",
       "      <td>107,100</td>\n",
       "      <td>34</td>\n",
       "      <td>11,203</td>\n",
       "    </tr>\n",
       "    <tr>\n",
       "      <th>75%</th>\n",
       "      <td>160,649</td>\n",
       "      <td>47</td>\n",
       "      <td>16,072</td>\n",
       "    </tr>\n",
       "    <tr>\n",
       "      <th>max</th>\n",
       "      <td>214,199</td>\n",
       "      <td>59</td>\n",
       "      <td>22,167</td>\n",
       "    </tr>\n",
       "  </tbody>\n",
       "</table>\n",
       "</div>"
      ],
      "text/plain": [
       "           ID  shop_id  item_id\n",
       "count 214,200  214,200  214,200\n",
       "mean  107,100       32   11,019\n",
       "std    61,834       18    6,253\n",
       "min         0        2       30\n",
       "25%    53,550       16    5,382\n",
       "50%   107,100       34   11,203\n",
       "75%   160,649       47   16,072\n",
       "max   214,199       59   22,167"
      ]
     },
     "execution_count": 4,
     "metadata": {},
     "output_type": "execute_result"
    },
    {
     "name": "stdout",
     "output_type": "stream",
     "text": [
      "time: 44.9 ms\n"
     ]
    }
   ],
   "source": [
    "test.describe()"
   ]
  },
  {
   "cell_type": "markdown",
   "metadata": {},
   "source": [
    "We need to do simple calculations here. The number of shop_id is 60, and the number of item_id is 22,170. Therefore, the total number of combinations of them is 1,330,200. However, there are only 214,200 IDs in the test. It means that this competition only requires 16.1% of the all shop_id and item_id combinations.\n",
    "\n",
    "We can use this fact in 3 ways.\n",
    "1. get a prediction of the test IDs in the submission using full data in the training and the validation.\n",
    "2. get a prediction of the test IDs in the validation and the submission using full data in the training.\n",
    "3. Reduce data before training to make training short.\n",
    "\n",
    "I think we should take 2 or 3. In the first way, the validation score can not be fitting to the test score. My strategy is using 3 till the validation and using 2 in the submission only. I think full data has other shops or other items, but it can give some information about how the price is going especially if I use RNN algorithms."
   ]
  },
  {
   "cell_type": "markdown",
   "metadata": {},
   "source": [
    "# Plan EDA(Exploratory data analysis)"
   ]
  },
  {
   "cell_type": "markdown",
   "metadata": {},
   "source": [
    "I think item_price and item_cnt_day have interesting qualtiles and min-max values. First of all, item_cnt_day must not be zero value because sales data is record of something that occured in sales. However, the target is item_cnt_month, so it would be better to analyze monthly data of item_cnt. In the item, the max price is so much higher than others. I'm not sure but, it's possible to use the extream price for prediction.\n",
    "\n",
    "My plans is as below.\n",
    "\n",
    "1. reduce data using test id combinations\n",
    "2. aggregate the total item_cnt_month of shops month by month\n",
    "3. aggregate the total item_cnt month of items month by month\n",
    "4. aggregate the total item_cnt_month month by month\n",
    "\n",
    "The purpose of them is to know if there are correlations between them and if there are patterns in time flow."
   ]
  },
  {
   "cell_type": "markdown",
   "metadata": {},
   "source": [
    "# Make utilities to submit"
   ]
  },
  {
   "cell_type": "markdown",
   "metadata": {},
   "source": [
    "Utility function makes codes simple, so it's good to make these functions"
   ]
  },
  {
   "cell_type": "code",
   "execution_count": 5,
   "metadata": {},
   "outputs": [
    {
     "name": "stdout",
     "output_type": "stream",
     "text": [
      "time: 14 ms\n"
     ]
    }
   ],
   "source": [
    "def make_submission_df(all_prediction):\n",
    "    df = test.merge(all_prediction, on=[\"shop_id\", \"item_id\"], how=\"left\")[[\"ID\", \"item_cnt_month\"]]\n",
    "    df[\"item_cnt_month\"] = df[\"item_cnt_month\"].fillna(0).clip(0, 20)\n",
    "    \n",
    "    return df\n",
    "\n",
    "def make_submission_file(df, comment=\"\", add_time_stamp=True):\n",
    "    name = comment\n",
    "    \n",
    "    if add_time_stamp:\n",
    "        if len(name) > 0:\n",
    "            name += '_'\n",
    "            \n",
    "        name += datetime.datetime.now().strftime('%Y%m%d%H%M')\n",
    "    \n",
    "    df.to_csv(\"./submission/%s.csv\" % name, sep=\",\", index=False)\n",
    "    \n",
    "def make_submission(all_prediction, comment=\"\", add_time_stamp=True):\n",
    "    make_submission_file(make_submission_df(all_prediction), comment, add_time_stamp)"
   ]
  },
  {
   "cell_type": "markdown",
   "metadata": {},
   "source": [
    "# Make benchmarks"
   ]
  },
  {
   "cell_type": "markdown",
   "metadata": {},
   "source": [
    "There should be benchmarks to measure my prediction's quality, so I made very simple ones. I think it should be done in first phase."
   ]
  },
  {
   "cell_type": "code",
   "execution_count": 6,
   "metadata": {},
   "outputs": [
    {
     "name": "stdout",
     "output_type": "stream",
     "text": [
      "time: 1.65 s\n"
     ]
    }
   ],
   "source": [
    "sample = pd.read_csv('./dataset/sample_submission.csv.gz')\n",
    "make_submission_file(sample, 'sample_value', False)\n",
    "\n",
    "sample['item_cnt_month'] = 0\n",
    "make_submission_file(sample, 'zero_value', False)\n",
    "\n",
    "previous_month = sales[sales[\"date_block_num\"] == 33].groupby([\"shop_id\", \"item_id\"], as_index=False).item_cnt_day.sum().rename(columns={\"item_cnt_day\": \"item_cnt_month\"})\n",
    "make_submission(previous_month, \"previous_month_value\", False)\n",
    "\n",
    "del sample, previous_month"
   ]
  },
  {
   "cell_type": "markdown",
   "metadata": {},
   "source": [
    "# Benchmark results"
   ]
  },
  {
   "cell_type": "markdown",
   "metadata": {},
   "source": [
    "* sample value(all 0.5): 1.23646\n",
    "* zero value: 1.25011\n",
    "* previous month value: 1.16777"
   ]
  },
  {
   "cell_type": "markdown",
   "metadata": {},
   "source": [
    "# Reduce data using test id combinations"
   ]
  },
  {
   "cell_type": "code",
   "execution_count": 7,
   "metadata": {},
   "outputs": [
    {
     "data": {
      "text/html": [
       "<div>\n",
       "<style scoped>\n",
       "    .dataframe tbody tr th:only-of-type {\n",
       "        vertical-align: middle;\n",
       "    }\n",
       "\n",
       "    .dataframe tbody tr th {\n",
       "        vertical-align: top;\n",
       "    }\n",
       "\n",
       "    .dataframe thead th {\n",
       "        text-align: right;\n",
       "    }\n",
       "</style>\n",
       "<table border=\"1\" class=\"dataframe\">\n",
       "  <thead>\n",
       "    <tr style=\"text-align: right;\">\n",
       "      <th></th>\n",
       "      <th>date_block_num</th>\n",
       "      <th>shop_id</th>\n",
       "      <th>item_id</th>\n",
       "      <th>item_price</th>\n",
       "      <th>item_cnt_day</th>\n",
       "    </tr>\n",
       "  </thead>\n",
       "  <tbody>\n",
       "    <tr>\n",
       "      <th>count</th>\n",
       "      <td>1,224,439</td>\n",
       "      <td>1,224,439</td>\n",
       "      <td>1,224,439</td>\n",
       "      <td>1,224,439</td>\n",
       "      <td>1,224,439</td>\n",
       "    </tr>\n",
       "    <tr>\n",
       "      <th>mean</th>\n",
       "      <td>19</td>\n",
       "      <td>32</td>\n",
       "      <td>9,615</td>\n",
       "      <td>1,031</td>\n",
       "      <td>1</td>\n",
       "    </tr>\n",
       "    <tr>\n",
       "      <th>std</th>\n",
       "      <td>9</td>\n",
       "      <td>16</td>\n",
       "      <td>6,300</td>\n",
       "      <td>1,827</td>\n",
       "      <td>3</td>\n",
       "    </tr>\n",
       "    <tr>\n",
       "      <th>min</th>\n",
       "      <td>0</td>\n",
       "      <td>2</td>\n",
       "      <td>30</td>\n",
       "      <td>0</td>\n",
       "      <td>-16</td>\n",
       "    </tr>\n",
       "    <tr>\n",
       "      <th>25%</th>\n",
       "      <td>12</td>\n",
       "      <td>19</td>\n",
       "      <td>4,181</td>\n",
       "      <td>299</td>\n",
       "      <td>1</td>\n",
       "    </tr>\n",
       "    <tr>\n",
       "      <th>50%</th>\n",
       "      <td>21</td>\n",
       "      <td>31</td>\n",
       "      <td>7,856</td>\n",
       "      <td>549</td>\n",
       "      <td>1</td>\n",
       "    </tr>\n",
       "    <tr>\n",
       "      <th>75%</th>\n",
       "      <td>27</td>\n",
       "      <td>46</td>\n",
       "      <td>15,229</td>\n",
       "      <td>1,199</td>\n",
       "      <td>1</td>\n",
       "    </tr>\n",
       "    <tr>\n",
       "      <th>max</th>\n",
       "      <td>33</td>\n",
       "      <td>59</td>\n",
       "      <td>22,167</td>\n",
       "      <td>59,200</td>\n",
       "      <td>2,169</td>\n",
       "    </tr>\n",
       "  </tbody>\n",
       "</table>\n",
       "</div>"
      ],
      "text/plain": [
       "       date_block_num   shop_id   item_id  item_price  item_cnt_day\n",
       "count       1,224,439 1,224,439 1,224,439   1,224,439     1,224,439\n",
       "mean               19        32     9,615       1,031             1\n",
       "std                 9        16     6,300       1,827             3\n",
       "min                 0         2        30           0           -16\n",
       "25%                12        19     4,181         299             1\n",
       "50%                21        31     7,856         549             1\n",
       "75%                27        46    15,229       1,199             1\n",
       "max                33        59    22,167      59,200         2,169"
      ]
     },
     "execution_count": 7,
     "metadata": {},
     "output_type": "execute_result"
    },
    {
     "name": "stdout",
     "output_type": "stream",
     "text": [
      "time: 856 ms\n"
     ]
    }
   ],
   "source": [
    "reduced_sales = sales.merge(test)\n",
    "reduced_sales = reduced_sales.drop('ID', axis=1)\n",
    "reduced_sales.describe()"
   ]
  },
  {
   "cell_type": "markdown",
   "metadata": {},
   "source": [
    "Before reducing data, the total number of rows is 2,935,849. Now, the amount of data is reduced to 41.7%.\n",
    "It means that test data is not randomly picked in all combinations of shop_id and item_id.\n",
    "One of the possible scenarios is that the host of this competition chose test targets in combinations that appeared in the sales data, not in all combinations."
   ]
  },
  {
   "cell_type": "markdown",
   "metadata": {},
   "source": [
    "# Analyze combinations of shop_id and item_id"
   ]
  },
  {
   "cell_type": "code",
   "execution_count": 8,
   "metadata": {},
   "outputs": [
    {
     "data": {
      "text/html": [
       "<div>\n",
       "<style scoped>\n",
       "    .dataframe tbody tr th:only-of-type {\n",
       "        vertical-align: middle;\n",
       "    }\n",
       "\n",
       "    .dataframe tbody tr th {\n",
       "        vertical-align: top;\n",
       "    }\n",
       "\n",
       "    .dataframe thead th {\n",
       "        text-align: right;\n",
       "    }\n",
       "</style>\n",
       "<table border=\"1\" class=\"dataframe\">\n",
       "  <thead>\n",
       "    <tr style=\"text-align: right;\">\n",
       "      <th></th>\n",
       "      <th>shop_id</th>\n",
       "      <th>item_id</th>\n",
       "    </tr>\n",
       "  </thead>\n",
       "  <tbody>\n",
       "    <tr>\n",
       "      <th>count</th>\n",
       "      <td>424,124</td>\n",
       "      <td>424,124</td>\n",
       "    </tr>\n",
       "    <tr>\n",
       "      <th>mean</th>\n",
       "      <td>31</td>\n",
       "      <td>11,458</td>\n",
       "    </tr>\n",
       "    <tr>\n",
       "      <th>std</th>\n",
       "      <td>17</td>\n",
       "      <td>6,133</td>\n",
       "    </tr>\n",
       "    <tr>\n",
       "      <th>min</th>\n",
       "      <td>0</td>\n",
       "      <td>0</td>\n",
       "    </tr>\n",
       "    <tr>\n",
       "      <th>25%</th>\n",
       "      <td>18</td>\n",
       "      <td>6,244</td>\n",
       "    </tr>\n",
       "    <tr>\n",
       "      <th>50%</th>\n",
       "      <td>30</td>\n",
       "      <td>11,614</td>\n",
       "    </tr>\n",
       "    <tr>\n",
       "      <th>75%</th>\n",
       "      <td>46</td>\n",
       "      <td>16,662</td>\n",
       "    </tr>\n",
       "    <tr>\n",
       "      <th>max</th>\n",
       "      <td>59</td>\n",
       "      <td>22,169</td>\n",
       "    </tr>\n",
       "  </tbody>\n",
       "</table>\n",
       "</div>"
      ],
      "text/plain": [
       "       shop_id  item_id\n",
       "count  424,124  424,124\n",
       "mean        31   11,458\n",
       "std         17    6,133\n",
       "min          0        0\n",
       "25%         18    6,244\n",
       "50%         30   11,614\n",
       "75%         46   16,662\n",
       "max         59   22,169"
      ]
     },
     "metadata": {},
     "output_type": "display_data"
    },
    {
     "data": {
      "text/plain": [
       "'unique value of shop_id: 60'"
      ]
     },
     "metadata": {},
     "output_type": "display_data"
    },
    {
     "data": {
      "text/plain": [
       "'unique value of item_id: 21807'"
      ]
     },
     "metadata": {},
     "output_type": "display_data"
    },
    {
     "name": "stdout",
     "output_type": "stream",
     "text": [
      "time: 275 ms\n"
     ]
    }
   ],
   "source": [
    "full_comb = sales[['shop_id', 'item_id']]\n",
    "full_comb = full_comb.drop_duplicates()\n",
    "display(full_comb.describe())\n",
    "display('unique value of shop_id: ' + str(len(full_comb.shop_id.unique())))\n",
    "display('unique value of item_id: ' + str(len(full_comb.item_id.unique())))"
   ]
  },
  {
   "cell_type": "code",
   "execution_count": 9,
   "metadata": {},
   "outputs": [
    {
     "data": {
      "text/html": [
       "<div>\n",
       "<style scoped>\n",
       "    .dataframe tbody tr th:only-of-type {\n",
       "        vertical-align: middle;\n",
       "    }\n",
       "\n",
       "    .dataframe tbody tr th {\n",
       "        vertical-align: top;\n",
       "    }\n",
       "\n",
       "    .dataframe thead th {\n",
       "        text-align: right;\n",
       "    }\n",
       "</style>\n",
       "<table border=\"1\" class=\"dataframe\">\n",
       "  <thead>\n",
       "    <tr style=\"text-align: right;\">\n",
       "      <th></th>\n",
       "      <th>shop_id</th>\n",
       "      <th>item_id</th>\n",
       "    </tr>\n",
       "  </thead>\n",
       "  <tbody>\n",
       "    <tr>\n",
       "      <th>count</th>\n",
       "      <td>111,404</td>\n",
       "      <td>111,404</td>\n",
       "    </tr>\n",
       "    <tr>\n",
       "      <th>mean</th>\n",
       "      <td>31</td>\n",
       "      <td>10,884</td>\n",
       "    </tr>\n",
       "    <tr>\n",
       "      <th>std</th>\n",
       "      <td>17</td>\n",
       "      <td>6,154</td>\n",
       "    </tr>\n",
       "    <tr>\n",
       "      <th>min</th>\n",
       "      <td>2</td>\n",
       "      <td>30</td>\n",
       "    </tr>\n",
       "    <tr>\n",
       "      <th>25%</th>\n",
       "      <td>16</td>\n",
       "      <td>5,241</td>\n",
       "    </tr>\n",
       "    <tr>\n",
       "      <th>50%</th>\n",
       "      <td>31</td>\n",
       "      <td>10,889</td>\n",
       "    </tr>\n",
       "    <tr>\n",
       "      <th>75%</th>\n",
       "      <td>47</td>\n",
       "      <td>16,028</td>\n",
       "    </tr>\n",
       "    <tr>\n",
       "      <th>max</th>\n",
       "      <td>59</td>\n",
       "      <td>22,167</td>\n",
       "    </tr>\n",
       "  </tbody>\n",
       "</table>\n",
       "</div>"
      ],
      "text/plain": [
       "       shop_id  item_id\n",
       "count  111,404  111,404\n",
       "mean        31   10,884\n",
       "std         17    6,154\n",
       "min          2       30\n",
       "25%         16    5,241\n",
       "50%         31   10,889\n",
       "75%         47   16,028\n",
       "max         59   22,167"
      ]
     },
     "metadata": {},
     "output_type": "display_data"
    },
    {
     "data": {
      "text/plain": [
       "'unique value of shop_id: 42'"
      ]
     },
     "metadata": {},
     "output_type": "display_data"
    },
    {
     "data": {
      "text/plain": [
       "'unique value of item_id: 4716'"
      ]
     },
     "metadata": {},
     "output_type": "display_data"
    },
    {
     "name": "stdout",
     "output_type": "stream",
     "text": [
      "time: 110 ms\n"
     ]
    }
   ],
   "source": [
    "reduced_comb = reduced_sales[['shop_id', 'item_id']]\n",
    "reduced_comb = reduced_comb.drop_duplicates()\n",
    "display(reduced_comb.describe())\n",
    "display('unique value of shop_id: ' + str(len(reduced_comb.shop_id.unique())))\n",
    "display('unique value of item_id: ' + str(len(reduced_comb.item_id.unique())))"
   ]
  },
  {
   "cell_type": "code",
   "execution_count": 10,
   "metadata": {
    "scrolled": true
   },
   "outputs": [
    {
     "data": {
      "text/html": [
       "<div>\n",
       "<style scoped>\n",
       "    .dataframe tbody tr th:only-of-type {\n",
       "        vertical-align: middle;\n",
       "    }\n",
       "\n",
       "    .dataframe tbody tr th {\n",
       "        vertical-align: top;\n",
       "    }\n",
       "\n",
       "    .dataframe thead th {\n",
       "        text-align: right;\n",
       "    }\n",
       "</style>\n",
       "<table border=\"1\" class=\"dataframe\">\n",
       "  <thead>\n",
       "    <tr style=\"text-align: right;\">\n",
       "      <th></th>\n",
       "      <th>ID</th>\n",
       "      <th>shop_id</th>\n",
       "      <th>item_id</th>\n",
       "    </tr>\n",
       "  </thead>\n",
       "  <tbody>\n",
       "    <tr>\n",
       "      <th>count</th>\n",
       "      <td>214,200</td>\n",
       "      <td>214,200</td>\n",
       "      <td>214,200</td>\n",
       "    </tr>\n",
       "    <tr>\n",
       "      <th>mean</th>\n",
       "      <td>107,100</td>\n",
       "      <td>32</td>\n",
       "      <td>11,019</td>\n",
       "    </tr>\n",
       "    <tr>\n",
       "      <th>std</th>\n",
       "      <td>61,834</td>\n",
       "      <td>18</td>\n",
       "      <td>6,253</td>\n",
       "    </tr>\n",
       "    <tr>\n",
       "      <th>min</th>\n",
       "      <td>0</td>\n",
       "      <td>2</td>\n",
       "      <td>30</td>\n",
       "    </tr>\n",
       "    <tr>\n",
       "      <th>25%</th>\n",
       "      <td>53,550</td>\n",
       "      <td>16</td>\n",
       "      <td>5,382</td>\n",
       "    </tr>\n",
       "    <tr>\n",
       "      <th>50%</th>\n",
       "      <td>107,100</td>\n",
       "      <td>34</td>\n",
       "      <td>11,203</td>\n",
       "    </tr>\n",
       "    <tr>\n",
       "      <th>75%</th>\n",
       "      <td>160,649</td>\n",
       "      <td>47</td>\n",
       "      <td>16,072</td>\n",
       "    </tr>\n",
       "    <tr>\n",
       "      <th>max</th>\n",
       "      <td>214,199</td>\n",
       "      <td>59</td>\n",
       "      <td>22,167</td>\n",
       "    </tr>\n",
       "  </tbody>\n",
       "</table>\n",
       "</div>"
      ],
      "text/plain": [
       "           ID  shop_id  item_id\n",
       "count 214,200  214,200  214,200\n",
       "mean  107,100       32   11,019\n",
       "std    61,834       18    6,253\n",
       "min         0        2       30\n",
       "25%    53,550       16    5,382\n",
       "50%   107,100       34   11,203\n",
       "75%   160,649       47   16,072\n",
       "max   214,199       59   22,167"
      ]
     },
     "metadata": {},
     "output_type": "display_data"
    },
    {
     "data": {
      "text/plain": [
       "'unique value of shop_id: 42'"
      ]
     },
     "metadata": {},
     "output_type": "display_data"
    },
    {
     "data": {
      "text/plain": [
       "'unique value of item_id: 5100'"
      ]
     },
     "metadata": {},
     "output_type": "display_data"
    },
    {
     "name": "stdout",
     "output_type": "stream",
     "text": [
      "time: 52.9 ms\n"
     ]
    }
   ],
   "source": [
    "display(test.describe())\n",
    "display('unique value of shop_id: ' + str(len(test.shop_id.unique())))\n",
    "display('unique value of item_id: ' + str(len(test.item_id.unique())))"
   ]
  },
  {
   "cell_type": "markdown",
   "metadata": {},
   "source": [
    "| data | full | reduced | test |\n",
    "|------|------| ------- | ---- |\n",
    "| shop_id | 60 | 42 | 42 |\n",
    "| item_id | 21,807 | 4,716 | 5100 |\n",
    "| total | 424,124 | 111,404 | 214,200 |\n",
    "| possible | 1,308,420 | 198,072 | 214,200 |\n",
    "| ratio | 32.4% | 56.2% | 100% |"
   ]
  },
  {
   "cell_type": "markdown",
   "metadata": {},
   "source": [
    "Our target is 214,200 combination. However, in the reduced data, there is only 4,716 unique item_ids. It means that 385 item was not sold in that period. In the combination, there is more zero sold combinations. It's almost half of the test combinations. In the full data set, zero sold combination ratios is abount 1/3. This is not so big gap between them. I think the important is the number of item_id. The test unique item_id is almost 1/4 of full data item_id. If we use one hot encoding for item_id, we can use only 1/4 of memory.\n",
    "\n",
    "I focused on something else. The total number of the combinations in the test is 214,200, but 111,404 in the reduced dataset. It means that only about half of combinations exists in sales data. One more data selection options is selecting only data in 111,404 combinations. I'm going to use the test dataset first, and then I'll use smaller and bigger one."
   ]
  },
  {
   "cell_type": "code",
   "execution_count": 11,
   "metadata": {},
   "outputs": [
    {
     "name": "stdout",
     "output_type": "stream",
     "text": [
      "time: 997 µs\n"
     ]
    }
   ],
   "source": [
    "del full_comb, reduced_comb, reduced_sales"
   ]
  },
  {
   "cell_type": "markdown",
   "metadata": {},
   "source": [
    "# Get applicable dataset to models"
   ]
  },
  {
   "cell_type": "markdown",
   "metadata": {},
   "source": [
    "First, define a useful function to save a memory."
   ]
  },
  {
   "cell_type": "code",
   "execution_count": 12,
   "metadata": {},
   "outputs": [
    {
     "name": "stdout",
     "output_type": "stream",
     "text": [
      "time: 5.96 ms\n"
     ]
    }
   ],
   "source": [
    "def downcast_dtypes(df):\n",
    "    '''\n",
    "        Changes column types in the dataframe: \n",
    "                \n",
    "                `float64` type to `float32`\n",
    "                `int64`   type to `int32`\n",
    "    '''\n",
    "    \n",
    "    # Select columns to downcast\n",
    "    float_cols = [c for c in df if df[c].dtype == \"float64\"]\n",
    "    int_cols =   [c for c in df if df[c].dtype == \"int64\"]\n",
    "    \n",
    "    # Downcast\n",
    "    df[float_cols] = df[float_cols].astype(np.float32)\n",
    "    df[int_cols]   = df[int_cols].astype(np.int32)\n",
    "    \n",
    "    return df"
   ]
  },
  {
   "cell_type": "markdown",
   "metadata": {},
   "source": [
    "### 1. Get base data form"
   ]
  },
  {
   "cell_type": "markdown",
   "metadata": {},
   "source": [
    "The form should have 'shop_id', 'item_id', 'date_block_num' because the required form of this competition is 'ID' made of 'shop_id' and 'item_id', and 'item_cnt_month'."
   ]
  },
  {
   "cell_type": "code",
   "execution_count": 13,
   "metadata": {},
   "outputs": [
    {
     "name": "stdout",
     "output_type": "stream",
     "text": [
      "time: 32.1 s\n"
     ]
    }
   ],
   "source": [
    "# index_cols = ['shop_id', 'item_id', 'date_block_num']\n",
    "# gb = sales.groupby(index_cols, as_index=False).sum().rename(columns={'item_cnt_day':'item_cnt_month'})\n",
    "# gb = gb.drop('item_price', axis=1)\n",
    "\n",
    "# df1 = pd.DataFrame({'shop_id': gb.shop_id.unique(), 'key':np.zeros(len(gb.shop_id.unique()))})\n",
    "# df2 = pd.DataFrame({'item_id': gb.item_id.unique(), 'key':np.zeros(len(gb.item_id.unique()))})\n",
    "# df3 = pd.DataFrame({'date_block_num': gb.date_block_num.unique(), 'key':np.zeros(len(gb.date_block_num.unique()))})\n",
    "\n",
    "# df = df1.merge(df2).merge(df3)\n",
    "\n",
    "# df = df.drop('key', axis=1)\n",
    "# df = df.sort_values(by=index_cols)\n",
    "\n",
    "# df = df.merge(gb, how='outer').fillna(0)\n",
    "# del df1, df2, df3, gb\n",
    "\n",
    "# df.head()\n",
    "\n",
    "# df = downcast_dtypes(df)\n",
    "\n",
    "# gc.collect()"
   ]
  },
  {
   "cell_type": "markdown",
   "metadata": {},
   "source": [
    "### 2. Make lag features"
   ]
  },
  {
   "cell_type": "code",
   "execution_count": 14,
   "metadata": {},
   "outputs": [
    {
     "data": {
      "application/vnd.jupyter.widget-view+json": {
       "model_id": "a2400f4ba72341d38420ff5966d4305d",
       "version_major": 2,
       "version_minor": 0
      },
      "text/html": [
       "<p>Failed to display Jupyter Widget of type <code>HBox</code>.</p>\n",
       "<p>\n",
       "  If you're reading this message in the Jupyter Notebook or JupyterLab Notebook, it may mean\n",
       "  that the widgets JavaScript is still loading. If this message persists, it\n",
       "  likely means that the widgets JavaScript library is either not installed or\n",
       "  not enabled. See the <a href=\"https://ipywidgets.readthedocs.io/en/stable/user_install.html\">Jupyter\n",
       "  Widgets Documentation</a> for setup instructions.\n",
       "</p>\n",
       "<p>\n",
       "  If you're reading this message in another frontend (for example, a static\n",
       "  rendering on GitHub or <a href=\"https://nbviewer.jupyter.org/\">NBViewer</a>),\n",
       "  it may mean that your frontend doesn't currently support widgets.\n",
       "</p>\n"
      ],
      "text/plain": [
       "HBox(children=(IntProgress(value=0, max=12), HTML(value='')))"
      ]
     },
     "metadata": {},
     "output_type": "display_data"
    },
    {
     "name": "stdout",
     "output_type": "stream",
     "text": [
      "\n",
      "time: 13min 57s\n"
     ]
    }
   ],
   "source": [
    "# # List of columns that we will use to create lags\n",
    "# cols_to_rename = list(df.columns.difference(index_cols)) \n",
    "\n",
    "# shift_range = [i for i in range(1, 13)]\n",
    "\n",
    "# lag_df = df\n",
    "\n",
    "# for month_shift in tqdm_notebook(shift_range):\n",
    "#     train_shift = lag_df[index_cols + cols_to_rename].copy()\n",
    "#     train_shift['date_block_num'] = train_shift['date_block_num'] + month_shift\n",
    "    \n",
    "#     foo = lambda x: '{}_lag_{}'.format(x, month_shift) if x in cols_to_rename else x\n",
    "#     train_shift = train_shift.rename(columns=foo)\n",
    "\n",
    "#     lag_df = lag_df.merge(train_shift, how='outer')\n",
    "#     del train_shift\n",
    "#     lag_df = downcast_dtypes(lag_df)\n",
    "#     gc.collect()"
   ]
  },
  {
   "cell_type": "markdown",
   "metadata": {},
   "source": [
    "- 위 작업이 시간이 오래걸리므로 csv나 npy파일로 만든 후에 저장했다가 부르는건 어떨까?\n",
    "- validation용 traing set과 test용 traing set을 분리시킨 후에 파이프 라인을 만들어서 코드를 깔끔하게 만들자\n",
    "- 작업이 끝나면 Knn feature와 mean encoding 방법을 적용할 방법을 생각해보자\n",
    "- 마지막은 ensemble을 해보자"
   ]
  },
  {
   "cell_type": "markdown",
   "metadata": {},
   "source": [
    "### 3. Trim lag_df"
   ]
  },
  {
   "cell_type": "code",
   "execution_count": 15,
   "metadata": {},
   "outputs": [
    {
     "name": "stdout",
     "output_type": "stream",
     "text": [
      "time: 43.5 s\n"
     ]
    }
   ],
   "source": [
    "# # Don't use old data from year 2013(because we use 12 months lag data in the target)\n",
    "# # to make submission 33 -> 34\n",
    "\n",
    "# valid_last = 33\n",
    "# test_last = 34\n",
    "\n",
    "# lag_df = lag_df[12 <= lag_df.date_block_num]\n",
    "# lag_df = lag_df[lag_df.date_block_num <= test_last]\n",
    "\n",
    "# # List of all lagged features\n",
    "# fit_cols = [col for col in lag_df.columns if col[-1] in [str(item) for item in shift_range]] \n",
    "# # We will drop these at fitting stage\n",
    "# to_drop_cols = list(set(list(lag_df.columns)) - (set(fit_cols)|set(index_cols))) + ['date_block_num'] \n",
    "\n",
    "# lag_df = downcast_dtypes(lag_df)\n",
    "\n",
    "# lag_df = lag_df.fillna(0)"
   ]
  },
  {
   "cell_type": "markdown",
   "metadata": {},
   "source": [
    "### 4. Save lag_df"
   ]
  },
  {
   "cell_type": "code",
   "execution_count": 25,
   "metadata": {},
   "outputs": [
    {
     "name": "stdout",
     "output_type": "stream",
     "text": [
      "time: 4min 42s\n"
     ]
    }
   ],
   "source": [
    "# lag_df.to_csv(\"full_lag_df.csv\", sep=\",\", index=False)"
   ]
  },
  {
   "cell_type": "markdown",
   "metadata": {},
   "source": [
    "### 5. load lag_df"
   ]
  },
  {
   "cell_type": "code",
   "execution_count": 28,
   "metadata": {},
   "outputs": [
    {
     "name": "stdout",
     "output_type": "stream",
     "text": [
      "time: 1min\n"
     ]
    }
   ],
   "source": [
    "lag_df = pd.read_csv(\"full_lag_df.csv\")\n",
    "lag_df = downcast_dtypes(lag_df)"
   ]
  },
  {
   "cell_type": "code",
   "execution_count": 29,
   "metadata": {},
   "outputs": [
    {
     "data": {
      "text/html": [
       "<div>\n",
       "<style scoped>\n",
       "    .dataframe tbody tr th:only-of-type {\n",
       "        vertical-align: middle;\n",
       "    }\n",
       "\n",
       "    .dataframe tbody tr th {\n",
       "        vertical-align: top;\n",
       "    }\n",
       "\n",
       "    .dataframe thead th {\n",
       "        text-align: right;\n",
       "    }\n",
       "</style>\n",
       "<table border=\"1\" class=\"dataframe\">\n",
       "  <thead>\n",
       "    <tr style=\"text-align: right;\">\n",
       "      <th></th>\n",
       "      <th>shop_id</th>\n",
       "      <th>item_id</th>\n",
       "      <th>date_block_num</th>\n",
       "      <th>item_cnt_month</th>\n",
       "      <th>item_cnt_month_lag_1</th>\n",
       "      <th>item_cnt_month_lag_2</th>\n",
       "      <th>item_cnt_month_lag_3</th>\n",
       "      <th>item_cnt_month_lag_4</th>\n",
       "      <th>item_cnt_month_lag_5</th>\n",
       "      <th>item_cnt_month_lag_6</th>\n",
       "      <th>item_cnt_month_lag_7</th>\n",
       "      <th>item_cnt_month_lag_8</th>\n",
       "      <th>item_cnt_month_lag_9</th>\n",
       "      <th>item_cnt_month_lag_10</th>\n",
       "      <th>item_cnt_month_lag_11</th>\n",
       "      <th>item_cnt_month_lag_12</th>\n",
       "    </tr>\n",
       "  </thead>\n",
       "  <tbody>\n",
       "    <tr>\n",
       "      <th>count</th>\n",
       "      <td>30,093,660</td>\n",
       "      <td>30,093,660</td>\n",
       "      <td>30,093,660</td>\n",
       "      <td>30,093,660</td>\n",
       "      <td>30,093,660</td>\n",
       "      <td>30,093,660</td>\n",
       "      <td>30,093,660</td>\n",
       "      <td>30,093,660</td>\n",
       "      <td>30,093,660</td>\n",
       "      <td>30,093,660</td>\n",
       "      <td>30,093,660</td>\n",
       "      <td>30,093,660</td>\n",
       "      <td>30,093,660</td>\n",
       "      <td>30,093,660</td>\n",
       "      <td>30,093,660</td>\n",
       "      <td>30,093,660</td>\n",
       "    </tr>\n",
       "    <tr>\n",
       "      <th>mean</th>\n",
       "      <td>30</td>\n",
       "      <td>11,099</td>\n",
       "      <td>23</td>\n",
       "      <td>0</td>\n",
       "      <td>0</td>\n",
       "      <td>0</td>\n",
       "      <td>0</td>\n",
       "      <td>0</td>\n",
       "      <td>0</td>\n",
       "      <td>0</td>\n",
       "      <td>0</td>\n",
       "      <td>0</td>\n",
       "      <td>0</td>\n",
       "      <td>0</td>\n",
       "      <td>0</td>\n",
       "      <td>0</td>\n",
       "    </tr>\n",
       "    <tr>\n",
       "      <th>std</th>\n",
       "      <td>17</td>\n",
       "      <td>6,397</td>\n",
       "      <td>7</td>\n",
       "      <td>2</td>\n",
       "      <td>2</td>\n",
       "      <td>2</td>\n",
       "      <td>2</td>\n",
       "      <td>2</td>\n",
       "      <td>2</td>\n",
       "      <td>2</td>\n",
       "      <td>2</td>\n",
       "      <td>2</td>\n",
       "      <td>2</td>\n",
       "      <td>2</td>\n",
       "      <td>2</td>\n",
       "      <td>2</td>\n",
       "    </tr>\n",
       "    <tr>\n",
       "      <th>min</th>\n",
       "      <td>0</td>\n",
       "      <td>0</td>\n",
       "      <td>12</td>\n",
       "      <td>-5</td>\n",
       "      <td>-5</td>\n",
       "      <td>-22</td>\n",
       "      <td>-22</td>\n",
       "      <td>-22</td>\n",
       "      <td>-22</td>\n",
       "      <td>-22</td>\n",
       "      <td>-22</td>\n",
       "      <td>-22</td>\n",
       "      <td>-22</td>\n",
       "      <td>-22</td>\n",
       "      <td>-22</td>\n",
       "      <td>-22</td>\n",
       "    </tr>\n",
       "    <tr>\n",
       "      <th>25%</th>\n",
       "      <td>15</td>\n",
       "      <td>5,551</td>\n",
       "      <td>17</td>\n",
       "      <td>0</td>\n",
       "      <td>0</td>\n",
       "      <td>0</td>\n",
       "      <td>0</td>\n",
       "      <td>0</td>\n",
       "      <td>0</td>\n",
       "      <td>0</td>\n",
       "      <td>0</td>\n",
       "      <td>0</td>\n",
       "      <td>0</td>\n",
       "      <td>0</td>\n",
       "      <td>0</td>\n",
       "      <td>0</td>\n",
       "    </tr>\n",
       "    <tr>\n",
       "      <th>50%</th>\n",
       "      <td>30</td>\n",
       "      <td>11,105</td>\n",
       "      <td>23</td>\n",
       "      <td>0</td>\n",
       "      <td>0</td>\n",
       "      <td>0</td>\n",
       "      <td>0</td>\n",
       "      <td>0</td>\n",
       "      <td>0</td>\n",
       "      <td>0</td>\n",
       "      <td>0</td>\n",
       "      <td>0</td>\n",
       "      <td>0</td>\n",
       "      <td>0</td>\n",
       "      <td>0</td>\n",
       "      <td>0</td>\n",
       "    </tr>\n",
       "    <tr>\n",
       "      <th>75%</th>\n",
       "      <td>44</td>\n",
       "      <td>16,648</td>\n",
       "      <td>29</td>\n",
       "      <td>0</td>\n",
       "      <td>0</td>\n",
       "      <td>0</td>\n",
       "      <td>0</td>\n",
       "      <td>0</td>\n",
       "      <td>0</td>\n",
       "      <td>0</td>\n",
       "      <td>0</td>\n",
       "      <td>0</td>\n",
       "      <td>0</td>\n",
       "      <td>0</td>\n",
       "      <td>0</td>\n",
       "      <td>0</td>\n",
       "    </tr>\n",
       "    <tr>\n",
       "      <th>max</th>\n",
       "      <td>59</td>\n",
       "      <td>22,169</td>\n",
       "      <td>34</td>\n",
       "      <td>2,253</td>\n",
       "      <td>2,253</td>\n",
       "      <td>1,644</td>\n",
       "      <td>1,305</td>\n",
       "      <td>1,305</td>\n",
       "      <td>1,305</td>\n",
       "      <td>1,305</td>\n",
       "      <td>1,305</td>\n",
       "      <td>1,305</td>\n",
       "      <td>1,305</td>\n",
       "      <td>1,305</td>\n",
       "      <td>1,305</td>\n",
       "      <td>1,305</td>\n",
       "    </tr>\n",
       "  </tbody>\n",
       "</table>\n",
       "</div>"
      ],
      "text/plain": [
       "         shop_id    item_id  date_block_num  item_cnt_month  \\\n",
       "count 30,093,660 30,093,660      30,093,660      30,093,660   \n",
       "mean          30     11,099              23               0   \n",
       "std           17      6,397               7               2   \n",
       "min            0          0              12              -5   \n",
       "25%           15      5,551              17               0   \n",
       "50%           30     11,105              23               0   \n",
       "75%           44     16,648              29               0   \n",
       "max           59     22,169              34           2,253   \n",
       "\n",
       "       item_cnt_month_lag_1  item_cnt_month_lag_2  item_cnt_month_lag_3  \\\n",
       "count            30,093,660            30,093,660            30,093,660   \n",
       "mean                      0                     0                     0   \n",
       "std                       2                     2                     2   \n",
       "min                      -5                   -22                   -22   \n",
       "25%                       0                     0                     0   \n",
       "50%                       0                     0                     0   \n",
       "75%                       0                     0                     0   \n",
       "max                   2,253                 1,644                 1,305   \n",
       "\n",
       "       item_cnt_month_lag_4  item_cnt_month_lag_5  item_cnt_month_lag_6  \\\n",
       "count            30,093,660            30,093,660            30,093,660   \n",
       "mean                      0                     0                     0   \n",
       "std                       2                     2                     2   \n",
       "min                     -22                   -22                   -22   \n",
       "25%                       0                     0                     0   \n",
       "50%                       0                     0                     0   \n",
       "75%                       0                     0                     0   \n",
       "max                   1,305                 1,305                 1,305   \n",
       "\n",
       "       item_cnt_month_lag_7  item_cnt_month_lag_8  item_cnt_month_lag_9  \\\n",
       "count            30,093,660            30,093,660            30,093,660   \n",
       "mean                      0                     0                     0   \n",
       "std                       2                     2                     2   \n",
       "min                     -22                   -22                   -22   \n",
       "25%                       0                     0                     0   \n",
       "50%                       0                     0                     0   \n",
       "75%                       0                     0                     0   \n",
       "max                   1,305                 1,305                 1,305   \n",
       "\n",
       "       item_cnt_month_lag_10  item_cnt_month_lag_11  item_cnt_month_lag_12  \n",
       "count             30,093,660             30,093,660             30,093,660  \n",
       "mean                       0                      0                      0  \n",
       "std                        2                      2                      2  \n",
       "min                      -22                    -22                    -22  \n",
       "25%                        0                      0                      0  \n",
       "50%                        0                      0                      0  \n",
       "75%                        0                      0                      0  \n",
       "max                    1,305                  1,305                  1,305  "
      ]
     },
     "execution_count": 29,
     "metadata": {},
     "output_type": "execute_result"
    },
    {
     "name": "stdout",
     "output_type": "stream",
     "text": [
      "time: 18 s\n"
     ]
    }
   ],
   "source": [
    "lag_df.describe()"
   ]
  },
  {
   "cell_type": "markdown",
   "metadata": {},
   "source": [
    "# Train/test split"
   ]
  },
  {
   "cell_type": "code",
   "execution_count": 16,
   "metadata": {
    "scrolled": true
   },
   "outputs": [
    {
     "name": "stdout",
     "output_type": "stream",
     "text": [
      "Test `date_block_num` is 34\n",
      "time: 1.56 s\n"
     ]
    }
   ],
   "source": [
    "# Save `date_block_num`, as we can't use them as features, but will need them to split the dataset into parts \n",
    "\n",
    "dates = lag_df['date_block_num']\n",
    "\n",
    "# to make submission file, change 33 to 34\n",
    "last_block = test_last\n",
    "print('Test `date_block_num` is %d' % last_block)"
   ]
  },
  {
   "cell_type": "code",
   "execution_count": 17,
   "metadata": {},
   "outputs": [
    {
     "name": "stdout",
     "output_type": "stream",
     "text": [
      "time: 8.21 s\n"
     ]
    }
   ],
   "source": [
    "dates_train = dates[dates <  last_block]\n",
    "dates_valid  = dates[dates == last_block]\n",
    "\n",
    "X_train = lag_df.loc[dates <  last_block].drop(to_drop_cols, axis=1)\n",
    "X_valid =  lag_df.loc[dates == last_block].drop(to_drop_cols, axis=1)\n",
    "\n",
    "y_train = lag_df.loc[dates <  last_block, 'item_cnt_month'].values\n",
    "y_valid =  lag_df.loc[dates == last_block, 'item_cnt_month'].values"
   ]
  },
  {
   "cell_type": "markdown",
   "metadata": {},
   "source": [
    "# Define this competition metric as a function"
   ]
  },
  {
   "cell_type": "code",
   "execution_count": 18,
   "metadata": {},
   "outputs": [
    {
     "name": "stdout",
     "output_type": "stream",
     "text": [
      "time: 8.98 ms\n"
     ]
    }
   ],
   "source": [
    "def rmse(pred, valid):\n",
    "    return np.sqrt(mean_squared_error(np.clip(pred, 0, 20), np.clip(valid, 0, 20)))"
   ]
  },
  {
   "cell_type": "markdown",
   "metadata": {},
   "source": [
    "# First level models "
   ]
  },
  {
   "cell_type": "code",
   "execution_count": 19,
   "metadata": {
    "scrolled": true
   },
   "outputs": [
    {
     "name": "stdout",
     "output_type": "stream",
     "text": [
      "Clipped rmse for Linear Regression is 0.366558\n",
      "time: 17.8 s\n"
     ]
    }
   ],
   "source": [
    "lr = LinearRegression()\n",
    "lr.fit(X_train.values, y_train)\n",
    "pred_lr = lr.predict(X_valid.values)\n",
    "\n",
    "print('Clipped rmse for Linear Regression is %f' % rmse(pred_lr, y_valid))"
   ]
  },
  {
   "cell_type": "code",
   "execution_count": 20,
   "metadata": {},
   "outputs": [
    {
     "name": "stdout",
     "output_type": "stream",
     "text": [
      "Clipped rmse for ElasticNet is 0.257933\n",
      "time: 31.7 s\n"
     ]
    }
   ],
   "source": [
    "from sklearn.linear_model import ElasticNet\n",
    "enet = ElasticNet()\n",
    "enet.fit(X_train.values, y_train)\n",
    "pred_enet = enet.predict(X_valid.values)\n",
    "\n",
    "print('Clipped rmse for ElasticNet is %f' % rmse(pred_enet, y_valid))"
   ]
  },
  {
   "cell_type": "code",
   "execution_count": 21,
   "metadata": {},
   "outputs": [
    {
     "name": "stderr",
     "output_type": "stream",
     "text": [
      "C:\\Users\\desca\\Anaconda3\\lib\\site-packages\\pandas\\core\\generic.py:3643: SettingWithCopyWarning: \n",
      "A value is trying to be set on a copy of a slice from a DataFrame.\n",
      "Try using .loc[row_indexer,col_indexer] = value instead\n",
      "\n",
      "See the caveats in the documentation: http://pandas.pydata.org/pandas-docs/stable/indexing.html#indexing-view-versus-copy\n",
      "  self[name] = value\n"
     ]
    },
    {
     "name": "stdout",
     "output_type": "stream",
     "text": [
      "time: 1.82 s\n"
     ]
    }
   ],
   "source": [
    "dd = lag_df[dates == last_block]\n",
    "dd.item_cnt_month = pred_enet\n",
    "dd = dd[['shop_id', 'item_id', 'item_cnt_month']]\n",
    "make_submission(dd, 'enet_with_12month_lag')"
   ]
  },
  {
   "cell_type": "markdown",
   "metadata": {},
   "source": [
    "# Submit to kaggle"
   ]
  },
  {
   "cell_type": "markdown",
   "metadata": {},
   "source": [
    "This cell automatically submits the submission file to kaggle. However, it should be carefully executed because the submitting opportunities are limited.\n",
    "- remove '#' before submitting\n",
    "- add a meaningful message to a submission"
   ]
  },
  {
   "cell_type": "code",
   "execution_count": 22,
   "metadata": {
    "scrolled": true
   },
   "outputs": [
    {
     "name": "stdout",
     "output_type": "stream",
     "text": [
      "Successfully submitted to Final project: predict future sales\n",
      "time: 12.7 s\n"
     ]
    }
   ],
   "source": [
    "!kaggle competitions submit -c competitive-data-science-final-project -f ./submission/enet_with_12month_lag_201806280804.csv -m \"enet with 1 ~ 12 months lagged data traind with all data !!!\""
   ]
  },
  {
   "cell_type": "markdown",
   "metadata": {},
   "source": [
    "# Check public score"
   ]
  },
  {
   "cell_type": "code",
   "execution_count": 23,
   "metadata": {
    "scrolled": true
   },
   "outputs": [
    {
     "name": "stdout",
     "output_type": "stream",
     "text": [
      "fileName                                            date                 description                                                                             status    publicScore  privateScore  \n",
      "--------------------------------------------------  -------------------  --------------------------------------------------------------------------------------  --------  -----------  ------------  \n",
      "enet_with_12month_lag_201806280804.csv              2018-06-27 23:16:52  enet with 1 ~ 12 months lagged data traind with all data !!!                            complete  1.04670      None          \n",
      "lr_with_12month_lag_201806280217.csv                2018-06-27 17:18:10  lr with 1 ~ 12 months lagged data traind with all data                                  complete  1.09279      None          \n",
      "enet_with_12month_lag_201806280213.csv              2018-06-27 17:16:43  Enet with 1 ~ 12 months lagged data traind with all data                                complete  1.07174      None          \n",
      "linereg_with_12month_lag_201806280200.csv           2018-06-27 17:01:48  Linear Regression with 1 ~ 12 months lagged data traind with only test id combinations  complete  1.09043      None          \n",
      "enat_with_12month_lag_201806280155.csv              2018-06-27 16:59:33  Enet with 1 ~ 12 months lagged data traind with only test id combinations               complete  1.06713      None          \n",
      "submission_1529781197_linereg_with_12month_lag.csv  2018-06-23 19:14:55  Linear Regression with 1 ~ 12 months lagged item sold record                            complete  1.06295      None          \n",
      "submission_sample_value.csv                         2018-06-23 14:20:47  description                                                                             complete  1.23646      None          \n",
      "submission_sample_value.csv                         2018-06-21 15:05:06  None                                                                                    complete  1.23646      None          \n",
      "submission_1529592962_zero_value.csv                2018-06-21 14:56:41  None                                                                                    complete  1.25011      None          \n",
      "submission_1529592179_previous_month_value.csv      2018-06-21 14:46:03  None                                                                                    complete  1.16777      None          \n",
      "time: 1.65 s\n"
     ]
    }
   ],
   "source": [
    "!kaggle competitions submissions -c competitive-data-science-final-project"
   ]
  },
  {
   "cell_type": "markdown",
   "metadata": {},
   "source": [
    "For sure, it scores better with more data han less data. One more thing I want to try is using full data in training and validating with only test data id combinations."
   ]
  },
  {
   "cell_type": "code",
   "execution_count": null,
   "metadata": {},
   "outputs": [],
   "source": []
  }
 ],
 "metadata": {
  "kernelspec": {
   "display_name": "Python 3",
   "language": "python",
   "name": "python3"
  },
  "language_info": {
   "codemirror_mode": {
    "name": "ipython",
    "version": 3
   },
   "file_extension": ".py",
   "mimetype": "text/x-python",
   "name": "python",
   "nbconvert_exporter": "python",
   "pygments_lexer": "ipython3",
   "version": "3.6.4"
  }
 },
 "nbformat": 4,
 "nbformat_minor": 2
}
